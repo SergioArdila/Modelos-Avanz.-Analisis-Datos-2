{
 "cells": [
  {
   "cell_type": "markdown",
   "metadata": {},
   "source": [
    "## MIIA-4203 MODELOS AVANZADOS PARA ANÁLISIS DE DATOS II\n",
    "\n",
    "\n",
    "# Introducción a las redes neuronales\n",
    "\n",
    "## Actividad 2\n",
    "\n",
    "### Profesor: Camilo Franco (c.franco31@uniandes.edu.co)\n",
    "\n",
    "### Estudiantes:\n",
    "\n",
    "- Ivan Galindo Gaviria Cod: 201924193\n",
    "- Jonny Coronel Villamil Cod: 201411692\n",
    "- Sergio Ardila Rodríguez Cod: 201924139\n",
    "\n",
    "En esta actividad vamos a estudiar una primera aproximación a los modelos de redes neuronales, utilizando como base el modelo de regresión logística.\n"
   ]
  },
  {
   "cell_type": "code",
   "execution_count": 27,
   "metadata": {},
   "outputs": [],
   "source": [
    "# Algunos paquetes iniciales que vamos a utilizar\n",
    "import pandas as pd\n",
    "import numpy as np \n",
    "import matplotlib\n",
    "import matplotlib.pyplot as plt\n",
    "from sklearn.linear_model import LogisticRegression\n",
    "from sklearn import model_selection"
   ]
  },
  {
   "cell_type": "markdown",
   "metadata": {},
   "source": [
    "## 1. Problema de clasificación: riesgo de default\n",
    "\n",
    "Examinemos los datos con lo cuales ya estamos familiarizados:\n"
   ]
  },
  {
   "cell_type": "markdown",
   "metadata": {},
   "source": [
    "https://archive.ics.uci.edu/ml/datasets/statlog+(german+credit+data)"
   ]
  },
  {
   "cell_type": "code",
   "execution_count": 2,
   "metadata": {},
   "outputs": [],
   "source": [
    "credit_1 = pd.read_csv(\"germancredit.csv\")\n",
    "credit_1 = pd.get_dummies(credit_1, columns=['checkingstatus1','history','purpose','savings',\n",
    "                                   'employ','status','others','property','otherplans','housing','job','tele', \n",
    "                                   'foreign'], prefix = ['checkingstatus1','history','purpose','savings',\n",
    "                                   'employ','status','others','property','otherplans','housing','job','tele', \n",
    "                                   'foreign'])\n",
    "X = credit_1.iloc[:, 1:62]\n",
    "Y = credit_1.iloc[:, 0]"
   ]
  },
  {
   "cell_type": "code",
   "execution_count": 3,
   "metadata": {},
   "outputs": [
    {
     "name": "stdout",
     "output_type": "stream",
     "text": [
      "Tamaño de CE, CP:  (600,) (400,)\n",
      "Observaciones de la clase positiva en entrenamiento: 180 y en prueba: 120\n"
     ]
    }
   ],
   "source": [
    "CE_x, CP_x, CE_y, CP_y = model_selection.train_test_split(X, Y, test_size=0.4, random_state=42, stratify=Y)\n",
    "print(\"Tamaño de CE, CP: \", CE_y.shape, CP_y.shape)\n",
    "print(\"Observaciones de la clase positiva en entrenamiento: \" +str(sum(CE_y)) +\" y en prueba: \" +str(sum(CP_y)))"
   ]
  },
  {
   "cell_type": "markdown",
   "metadata": {},
   "source": [
    "## 2. Construcción de una neurona Sigmoide\n",
    "\n",
    "Una neurona Sigmoide puede ser vista como un perceptrón *suavizado* que recibe una señal y entonces se activa. Al activarse, transforma la señal para entender mejor el mensaje. Esta transformación la ejecuta a partir de la fucnión Sigmoide.\n",
    "\n",
    "Si tomamos la señal como un conjunto de datos de entrada y el mensaje como la predicción de un valor, la función de activación jugará el papel de transformadora de los datos de entrada en aquello que se quiere entender/predecir, que además replica un modelo logit con la función de activación sigmoide.\n",
    "\n",
    "A continuación construiremos un clasificador de regresión logística bajo la perspectiva de una red neuronal, estudiando la arquitectura general de un algoritmo de aprendizaje. De esta manera, necesitaremos incluir la inicialización de los parámetros, el cálculo de la función de coste y su gradiente, y utilizar un algoritmo de optimización como por ejemplo el descenso en la dirección del gradiente (GD)\n",
    "\n",
    "**Formulación del algoritmo**:\n",
    "\n",
    "Para un ejemplo $x^{(i)}$:\n",
    "$$z^{(i)} = w^T x^{(i)} + b \\tag{1}$$\n",
    "$$\\hat{y}^{(i)} = a^{(i)} = sigmoide(z^{(i)})\\tag{2}$$ \n",
    "$$ \\mathcal{L}(a^{(i)}, y^{(i)}) =  - y^{(i)}  \\log(a^{(i)}) - (1-y^{(i)} )  \\log(1-a^{(i)})\\tag{3}$$\n",
    "\n",
    "El coste se calcula sumando sobre todos los ejemplos de entrenamiento:\n",
    "$$ L = \\frac{1}{m} \\sum_{i=1}^m \\mathcal{L}(a^{(i)}, y^{(i)})\\tag{4}$$\n",
    "\n"
   ]
  },
  {
   "cell_type": "markdown",
   "metadata": {},
   "source": [
    "### Construimos las partes del algoritmo  \n",
    "\n",
    "- Inicializar los parámetros del modelo\n",
    "- Bucle:\n",
    "    - Calcular la pérdida actual (propagación hacia delante)\n",
    "    - Calcular el gradiente actual (retro-propagación)\n",
    "    - Actualizar los parámetros (descenso en la dirección del gradiente)\n",
    "\n",
    "\n",
    "### Ejercicio 2.1\n",
    "Implemente la funcion `sigmoide()` $$\\sigma( w^T x + b) = \\frac{1}{1 + e^{-(w^T x + b)}}$$ Para ello puede utilizar np.exp()."
   ]
  },
  {
   "cell_type": "code",
   "execution_count": 4,
   "metadata": {},
   "outputs": [],
   "source": [
    "def sigmoide(z):\n",
    "    \"\"\"\n",
    "    Input:\n",
    "    z: Un escalar o arreglo numpy de cualquier tamaño\n",
    "    Output:\n",
    "    s: sigmoid(z)\n",
    "    \"\"\"\n",
    "    s = 1 / (1 + np.exp(-z))\n",
    "        \n",
    "    return s"
   ]
  },
  {
   "cell_type": "code",
   "execution_count": 5,
   "metadata": {},
   "outputs": [
    {
     "name": "stdout",
     "output_type": "stream",
     "text": [
      "sigmoide([99,1,0,-1,-99]) = [1.00000000e+00 7.31058579e-01 5.00000000e-01 2.68941421e-01\n",
      " 1.01122149e-43]\n"
     ]
    }
   ],
   "source": [
    "print (\"sigmoide([99,1,0,-1,-99]) = \" + str(sigmoide(np.array([99,1,0,-1,-99]))))"
   ]
  },
  {
   "cell_type": "markdown",
   "metadata": {},
   "source": [
    "**Salida esperada**: \n",
    "\n",
    "<table>\n",
    "<tr>\n",
    "<td> sigmoide([99,1,0,-1,-99])    = </td>\n",
    "<td> [ 1.00000000e+00 7.31058579e-01 5.00000000e-01 2.68941421e-01\n",
    " 1.01122149e-43] </td> \n",
    "</tr>\n",
    "</table>"
   ]
  },
  {
   "cell_type": "markdown",
   "metadata": {},
   "source": [
    "### Ejercicio 2.2 \n",
    "\n",
    "Debemos inicializar los parámetros a cero. Puede utilizar la funcion np.zeros(), apoyandose en la documentación de la biblioteca Numpy."
   ]
  },
  {
   "cell_type": "code",
   "execution_count": 6,
   "metadata": {},
   "outputs": [],
   "source": [
    "def inicializa_ceros(dim):\n",
    "    \"\"\"\n",
    "    Esta función crea un vector de ceros de dimensión (dim, 1) para w e inicializa b a 0.\n",
    "    Input:\n",
    "    dim: tamaño del vector w (número de parámetros para este caso)\n",
    "    Output:\n",
    "    w: vector inicializado de tamaño (dim, 1)\n",
    "    b: escalar inicializado (corresponde con el sesgo)\n",
    "    \"\"\"\n",
    "    \n",
    "    w = np.zeros([dim,1])\n",
    "    b = 0\n",
    "\n",
    "    assert(w.shape == (dim, 1))\n",
    "    assert(isinstance(b, float) or isinstance(b, int))\n",
    "    \n",
    "    return w, b"
   ]
  },
  {
   "cell_type": "code",
   "execution_count": 7,
   "metadata": {},
   "outputs": [
    {
     "name": "stdout",
     "output_type": "stream",
     "text": [
      "w = [[0.]\n",
      " [0.]\n",
      " [0.]\n",
      " [0.]\n",
      " [0.]\n",
      " [0.]]\n",
      "b = 0\n"
     ]
    }
   ],
   "source": [
    "dim = 6\n",
    "w, b = inicializa_ceros(dim)\n",
    "print (\"w = \" + str(w))\n",
    "print (\"b = \" + str(b))"
   ]
  },
  {
   "cell_type": "markdown",
   "metadata": {},
   "source": [
    "**Salida esperada**: \n",
    "\n",
    "\n",
    "<table style=\"width:35%\">\n",
    "<tr>\n",
    "<td>   w   </td>\n",
    "<td> [[0.]\n",
    " [0.]\n",
    " [0.]\n",
    " [0.]\n",
    " [0.]\n",
    " [0.]] </td>\n",
    "</tr>\n",
    "<tr>\n",
    "<td>   b   </td>\n",
    "<td> 0 </td>\n",
    "</tr>\n",
    "</table>"
   ]
  },
  {
   "cell_type": "markdown",
   "metadata": {},
   "source": [
    "### Ejercicio 2.3 \n",
    "#### Propagación hacia delante y hacia atrás\n",
    "\n",
    "Una vez los estimadores están inicializados, se pueden implementar los pasos de propagación hacia \"delante\" y hacia \"atrás\" para el aprendizaje automático. \n",
    "\n",
    "La propagación hacia delante consiste en calcular la función de activación sigmoide sobre la combinacón lineal de los patrones y los coeficientes inciales. \n",
    "\n",
    "Luego la propagación hacia atrás, o *retro-propagación*, es el paso más importante, donde utilizamos el gradiente de la función del error o de pérdida para actualizar los coeficientes. \n",
    "\n",
    "Este procedimiento se repite iterativamente replicando el procediemiento de descenso en la dirección del gradiente o *Gradient Descent* (GD).\n",
    "\n",
    "A continuación implemente la función `propaga()` que calcula la función de coste y su gradiente.\n",
    "\n",
    "**Ayuda**:\n",
    "\n",
    "Propagación hacia delante:\n",
    "- Se tiene $X$\n",
    "- Se calcula $A = \\sigma(w^T X + b) = (a^{(1)}, a^{(2)}, ..., a^{(m-1)}, a^{(m)})$\n",
    "- Se calcula la función de coste/pérdida: $L = -\\frac{1}{m}\\sum_{i=1}^{m}y^{(i)}\\log(a^{(i)})+(1-y^{(i)})\\log(1-a^{(i)})$\n",
    "\n",
    "Para la retro-propagación, tenemos que calcular la derivada parcial de *L* con respecto a nuestros coeficientes $(w,b)$:  \n",
    "\n",
    "$$ \\frac{\\partial L}{\\partial w} = \\frac{1}{m}X(A-Y)^T\\tag{5}$$\n",
    "$$ \\frac{\\partial L}{\\partial b} = \\frac{1}{m} \\sum_{i=1}^m (a^{(i)}-y^{(i)})\\tag{6}$$\n",
    "\n",
    "*Nota:* Para el cálculo de estas derivadas debemos hacer uso de la regla de la cadena. \n",
    "\n",
    "Esto es, dado $Z=w^T X + b$, se tiene que $$\\frac{\\partial L}{\\partial Z} = \\frac{\\partial L}{\\partial A} \\frac{\\partial A}{\\partial Z} = \\bigg(\\frac{-Y}{A}+\\frac{1-Y}{1-A}\\bigg) (A \\cdot (1-A)) $$\n"
   ]
  },
  {
   "cell_type": "code",
   "execution_count": 8,
   "metadata": {},
   "outputs": [],
   "source": [
    "def propaga(w, b, X, Y):\n",
    "    \"\"\"\n",
    "    Implemente la función de coste y su gradiente para la propagación\n",
    "    Input:\n",
    "    w: pesos, un arreglo numpy \n",
    "    b: sesgo, un escalar\n",
    "    X: datos de entrada\n",
    "    Y: vector de etiquetas \n",
    "    Output:\n",
    "    coste: coste negativo de log-verosimilitud para la regresión logística\n",
    "    dw: gradiente de la pérdida con respecto a w, con las mismas dimensiones que w\n",
    "    db: gradiente de la pérdida con respecto a b, con las mismas dimensiones que b\n",
    "    \n",
    "    (Sugerencia: utilice las funciones np.log(), np.dot()\n",
    "    \"\"\"\n",
    "    \n",
    "    m = X.shape[1]\n",
    "    \n",
    "    A = sigmoide(np.dot(np.transpose(w),X) + b) # compute la activación\n",
    "    coste = (-1/m)*np.sum(Y*np.log(A)+(1-Y)*np.log(1-A)) # compute el coste\n",
    "\n",
    "    dw = (1/m)*np.dot(X,np.transpose(A-Y))\n",
    "    db = (1/m)*np.sum(A-Y)\n",
    "\n",
    "    assert(dw.shape == w.shape)\n",
    "    assert(db.dtype == float)\n",
    "    cost = np.squeeze(coste)\n",
    "    assert(coste.shape == ())\n",
    "    \n",
    "    grads = {\"dw\": dw,\n",
    "             \"db\": db}\n",
    "    \n",
    "    return grads, coste"
   ]
  },
  {
   "cell_type": "code",
   "execution_count": 9,
   "metadata": {},
   "outputs": [
    {
     "name": "stdout",
     "output_type": "stream",
     "text": [
      "dw = [[65.48251839]\n",
      " [29.66675568]]\n",
      "db = 0.348980796447886\n",
      "coste = 9.752716367426284\n"
     ]
    }
   ],
   "source": [
    "w, b, X, Y = np.array([[0.1],[0.1]]), 0.5, np.array([[66.,99.,-33.],[32.,55.,-2.1]]), np.array([[0,0,1]])\n",
    "grads, coste = propaga(w, b, X, Y)\n",
    "print (\"dw = \" + str(grads[\"dw\"]))\n",
    "print (\"db = \" + str(grads[\"db\"]))\n",
    "print (\"coste = \" + str(coste))"
   ]
  },
  {
   "cell_type": "markdown",
   "metadata": {},
   "source": [
    "**Salida esperada**: \n",
    "\n",
    "<table style=\"width:50%\">\n",
    "<tr>\n",
    "<td>   dw   </td>\n",
    "<td> [[65.48251839]\n",
    " [29.66675568]]</td>\n",
    "</tr>\n",
    "<tr>\n",
    "<td>   db   </td>\n",
    "<td> 0.348980796447886 </td>\n",
    "</tr>\n",
    "<tr>\n",
    "<td>   cost   </td>\n",
    "<td> 9.752716367426284 </td>\n",
    "</tr>\n",
    "</table>"
   ]
  },
  {
   "cell_type": "markdown",
   "metadata": {},
   "source": [
    "### Ejercicio 2.4 \n",
    "#### Optimización\n",
    "\n",
    "- Se tienen los parámetros inicializados.\n",
    "- También se tiene el código para calcular la función de coste y su gradiente.\n",
    "- Ahora se quieren actualizar los parámetros utilizando el GD.\n",
    "\n",
    "Escriba la función de optimización para aprender $w$ y $b$ minimizando la función de coste $L$. \n",
    "\n",
    "Para un parámetro $\\theta$, la regla de actualización es $ \\theta = \\theta - \\alpha \\text{ } d\\theta$, donde $\\alpha$ es la tasa de aprendizaje."
   ]
  },
  {
   "cell_type": "code",
   "execution_count": 10,
   "metadata": {},
   "outputs": [],
   "source": [
    "def optimiza(w, b, X, Y, num_iter, tasa, print_cost):\n",
    "    \"\"\"\n",
    "    Esta función optimiza w y b implementando el algoritmo de GD\n",
    "    Input:\n",
    "    w: pesos, un arreglo numpy \n",
    "    b: sesgo, un escalar\n",
    "    X: datos de entrada\n",
    "    Y: vector de etiquetas \n",
    "    num_iter: número de iteracionespara el bucle de optimización\n",
    "    tasa: tasa de aprendizaje para la regla de actualización del GD\n",
    "    print_cost: True para imprimir la pérdida cada 100 iteraciones\n",
    "    Output:\n",
    "    params: diccionario con los pesos w y el sesgo b\n",
    "    grads: diccionario con los gradientes de los pesos y el sesgo con respecto a la función de pérdida\n",
    "    costes: lista de todos los costes calculados durante la optimización, usados para graficar la curva de aprendizaje.\n",
    "    \n",
    "    Sugerencia: puede escribir dos pasos e iterar sobre ellos:\n",
    "        1) Calcule el coste y el gradiente de los parámetros actuales. Use propaga().\n",
    "        2) Actualize los parámetros usando la regla del GD para w y b.\n",
    "    \"\"\"\n",
    "    \n",
    "    costes = []\n",
    "    \n",
    "    for i in range(num_iter):\n",
    "        \n",
    "        \n",
    "        # Computación del coste y el gradiente \n",
    "        grads, coste = propaga(w, b, X, Y)\n",
    "        \n",
    "        # Recupere las derivadas de grads\n",
    "        dw = grads[\"dw\"]\n",
    "        db = grads[\"db\"]\n",
    "        \n",
    "        # Actualize la regla \n",
    "        w = w-tasa*dw\n",
    "        b = b-tasa*db\n",
    "        \n",
    "        # Guarde los costes\n",
    "        if i % 100 == 0:\n",
    "            costes.append(coste)\n",
    "        \n",
    "        # Se muestra el coste cada 100 iteraciones de entrenamiento\n",
    "        if print_cost and i % 100 == 0:\n",
    "            print (\"Coste tras la iteración %i: %f\" %(i, coste))\n",
    "    \n",
    "    params = {\"w\": w,\n",
    "              \"b\": b}\n",
    "    \n",
    "    grads = {\"dw\": dw,\n",
    "             \"db\": db}\n",
    "    \n",
    "    return params, grads, costes"
   ]
  },
  {
   "cell_type": "code",
   "execution_count": 11,
   "metadata": {},
   "outputs": [
    {
     "name": "stdout",
     "output_type": "stream",
     "text": [
      "w = [[-0.07262234]\n",
      " [ 0.02112647]]\n",
      "b = 0.49898148713402446\n",
      "dw = [[1.42076721]\n",
      " [0.43496446]]\n",
      "db = -0.007821662502973652\n"
     ]
    }
   ],
   "source": [
    "params, grads, costes = optimiza(w, b, X, Y, num_iter= 10, tasa = 0.001, print_cost = False)\n",
    "\n",
    "print (\"w = \" + str(params[\"w\"]))\n",
    "print (\"b = \" + str(params[\"b\"]))\n",
    "print (\"dw = \" + str(grads[\"dw\"]))\n",
    "print (\"db = \" + str(grads[\"db\"]))"
   ]
  },
  {
   "cell_type": "markdown",
   "metadata": {},
   "source": [
    "**Salida esperada**:  \n",
    "\n",
    "<table style=\"width:40%\">\n",
    "<tr>\n",
    "<td> w </td>\n",
    "<td>[[-0.07262234]\n",
    " [ 0.02112647]] </td>\n",
    "</tr>\n",
    "<tr>\n",
    "<td> b </td>\n",
    "<td> 0.49898148713402446 </td>\n",
    "</tr>\n",
    "<tr>\n",
    "<td> dw </td>\n",
    "<td> [[1.42076721]\n",
    " [0.43496446]] </td>\n",
    "</tr>\n",
    "<tr>\n",
    "<td> db </td>\n",
    "<td> -0.007821662502973652 </td>\n",
    "</tr>\n",
    "</table>"
   ]
  },
  {
   "cell_type": "markdown",
   "metadata": {},
   "source": [
    "### Ejercicio 2.5\n",
    "\n",
    "La función anterior aprende los parámetros w y b, que se pueden usar para predecir sobre el conjunto de datos X. \n",
    "\n",
    "Hay dos pasos para calcular las predicciones:\n",
    "\n",
    "1. Calcular $\\hat{Y} = A = \\sigma(w^T X + b)$\n",
    "\n",
    "2. Converir a 0 las entradas de $a$ (si la activación es <= 0.5) o 1 (si la activación es > 0.5), guarde las predicciones en un vector `Y_pred`.  \n",
    "\n",
    "Ahora implemente la función `pred()`. "
   ]
  },
  {
   "cell_type": "code",
   "execution_count": 12,
   "metadata": {},
   "outputs": [],
   "source": [
    "def pred(w, b, X):\n",
    "    '''\n",
    "    Prediga si una etiqueta es 0 o 1 usando los parámetros de regresión logística aprendidos (w, b)\n",
    "    Input:\n",
    "    w: pesos, un arreglo numpy \n",
    "    b: sesgo, un escalar\n",
    "    X: datos de entrada\n",
    "    Output:\n",
    "    Y_pred: vector con todas las predicciones (0/1) para los ejemplos en X\n",
    "    '''\n",
    "    \n",
    "    m = X.shape[1]\n",
    "    Y_pred = np.zeros((1,m))\n",
    "    w = w.reshape(X.shape[0], 1)\n",
    "    \n",
    "    # Compute el vector \"A\" prediciendo las probabilidades\n",
    "    A = sigmoide(np.dot(np.transpose(w),X)+b)\n",
    "    \n",
    "    for i in range(A.shape[1]):\n",
    "        \n",
    "        # Convierta las probabilidades A[0,i] a predicciones p[0,i]\n",
    "        Y_pred[0,i] = round(A[0,i],0)\n",
    "    \n",
    "    assert(Y_pred.shape == (1, m))\n",
    "    \n",
    "    return Y_pred"
   ]
  },
  {
   "cell_type": "code",
   "execution_count": 13,
   "metadata": {},
   "outputs": [
    {
     "name": "stdout",
     "output_type": "stream",
     "text": [
      "predicciones = [[1. 0. 0.]]\n"
     ]
    }
   ],
   "source": [
    "w = np.array([[0.12],[0.23]])\n",
    "b = -0.09\n",
    "X = np.array([[3.1,-2.9,0.2],[1.9,1.8,-0.09]])\n",
    "print (\"predicciones = \" + str(pred(w, b, X)))"
   ]
  },
  {
   "cell_type": "markdown",
   "metadata": {},
   "source": [
    "**Salida esperada**: \n",
    "\n",
    "<table style=\"width:40%\">\n",
    "<tr>\n",
    "<td> predicciones   </td>\n",
    "<td>[[ 1.  0.  0.]]  </td>  \n",
    "</tr>\n",
    "</table>"
   ]
  },
  {
   "cell_type": "markdown",
   "metadata": {},
   "source": [
    "### Ejercicio 2.6\n",
    "#### Combine todas las funciones \n",
    "\n",
    "Ahora juntemos todos los bloques que ha programado arriba.\n",
    "\n",
    "Implemente la función del modelo \"madre\". Use la siguiente notación:\n",
    "    - YP_pred para las predicciones sobre el conjunto de prueba\n",
    "    - YE_pred para las predicciones sobre el conjunto de entrenamiento\n",
    "    - w, costes, grads para las salidas de optimiza()"
   ]
  },
  {
   "cell_type": "code",
   "execution_count": 14,
   "metadata": {},
   "outputs": [],
   "source": [
    "def modelo(CE_x, CP_x, CE_y, CP_y, num_iter, tasa, print_cost):\n",
    "    \"\"\"\n",
    "    Construye el modelo de regresión logística llamando las funciones implementadas anteriormente\n",
    "    Output:\n",
    "    d: diccionario con la información sobre el modelo.\n",
    "    \"\"\"\n",
    "    \n",
    "    # Inicialice los parametros con ceros \n",
    "    w = np.zeros([CE_x.shape[0],1])\n",
    "    b = 0\n",
    "\n",
    "    # Descenso en la dirección del gradiente (GD) \n",
    "    params, grads, costes = optimiza(w, b, CE_x, CE_y, num_iter, tasa, print_cost)\n",
    "    \n",
    "    # Recupere los parámetros w y b del diccionario \"params\" ##\n",
    "    w = params[\"w\"]\n",
    "    b = params[\"b\"]\n",
    "    \n",
    "    # Prediga los ejemplos de prueba y entrenamiento (≈ 2 líneas de código)\n",
    "    YP_pred = pred(w, b, CP_x)\n",
    "    YE_pred = pred(w, b, CE_x)\n",
    "\n",
    "    # Imprima los errores de entrenamiento y prueba\n",
    "    print(\"Accuracy de entrenamiento: {} %\".format(100 - np.mean(np.abs(YE_pred - CE_y)) * 100))\n",
    "    print(\"Accuracy de prueba: {} %\".format(100 - np.mean(np.abs(YP_pred - CP_y)) * 100))\n",
    "\n",
    "    \n",
    "    d = {\"Costes\": costes,\n",
    "         \"Prediccion_prueba\": YP_pred, \n",
    "         \"Prediccion_entrenamiento\" : YE_pred, \n",
    "         \"w\" : w, \n",
    "         \"b\" : b,\n",
    "         \"Tasa de aprendizaje\" : tasa,\n",
    "         \"Numero de iteraciones\": num_iter}\n",
    "    \n",
    "    return d"
   ]
  },
  {
   "cell_type": "markdown",
   "metadata": {},
   "source": [
    "### Pregunta 2.7\n",
    "\n",
    "De qué dimensiones deben ser las matrices con los datos de entrada y de salida?"
   ]
  },
  {
   "cell_type": "code",
   "execution_count": 15,
   "metadata": {},
   "outputs": [
    {
     "name": "stdout",
     "output_type": "stream",
     "text": [
      "Dimensiones de la matriz\n",
      "Con los datos de entrada --> (61, 600)\n",
      "Con los datos de salida --> (1, 600)\n"
     ]
    }
   ],
   "source": [
    "print('Dimensiones de la matriz')\n",
    "print('Con los datos de entrada -->',(np.transpose(CE_x)).shape)\n",
    "print('Con los datos de salida -->',(np.array(CE_y)[np.newaxis]).shape)"
   ]
  },
  {
   "cell_type": "code",
   "execution_count": 16,
   "metadata": {},
   "outputs": [
    {
     "name": "stdout",
     "output_type": "stream",
     "text": [
      "(61, 600) (1, 600)\n"
     ]
    }
   ],
   "source": [
    "# Podemos re-configurar las matrices de la siguiente forma:\n",
    "CE_x2 = CE_x.T\n",
    "CP_x2 = CP_x.T\n",
    "CE_y2 = np.array(CE_y)[np.newaxis]\n",
    "CP_y2 = np.array(CP_y)[np.newaxis]\n",
    "\n",
    "print(CE_x2.shape, CE_y2.shape)"
   ]
  },
  {
   "cell_type": "markdown",
   "metadata": {},
   "source": [
    "Ahora, ejecute la siguiente celda para entrenar el modelo:"
   ]
  },
  {
   "cell_type": "code",
   "execution_count": 17,
   "metadata": {},
   "outputs": [
    {
     "name": "stdout",
     "output_type": "stream",
     "text": [
      "Coste tras la iteración 0: 0.693147\n",
      "Coste tras la iteración 100: 0.656075\n",
      "Coste tras la iteración 200: 0.656015\n",
      "Coste tras la iteración 300: 0.656002\n",
      "Coste tras la iteración 400: 0.655989\n",
      "Coste tras la iteración 500: 0.655976\n",
      "Coste tras la iteración 600: 0.655963\n",
      "Coste tras la iteración 700: 0.655950\n",
      "Coste tras la iteración 800: 0.655937\n",
      "Coste tras la iteración 900: 0.655924\n",
      "Coste tras la iteración 1000: 0.655911\n",
      "Coste tras la iteración 1100: 0.655898\n",
      "Coste tras la iteración 1200: 0.655885\n",
      "Coste tras la iteración 1300: 0.655872\n",
      "Coste tras la iteración 1400: 0.655859\n",
      "Coste tras la iteración 1500: 0.655846\n",
      "Coste tras la iteración 1600: 0.655834\n",
      "Coste tras la iteración 1700: 0.655821\n",
      "Coste tras la iteración 1800: 0.655808\n",
      "Coste tras la iteración 1900: 0.655795\n",
      "Coste tras la iteración 2000: 0.655782\n",
      "Coste tras la iteración 2100: 0.655769\n",
      "Coste tras la iteración 2200: 0.655756\n",
      "Coste tras la iteración 2300: 0.655743\n",
      "Coste tras la iteración 2400: 0.655730\n",
      "Coste tras la iteración 2500: 0.655718\n",
      "Coste tras la iteración 2600: 0.655705\n",
      "Coste tras la iteración 2700: 0.655692\n",
      "Coste tras la iteración 2800: 0.655679\n",
      "Coste tras la iteración 2900: 0.655666\n",
      "Coste tras la iteración 3000: 0.655653\n",
      "Coste tras la iteración 3100: 0.655640\n",
      "Coste tras la iteración 3200: 0.655628\n",
      "Coste tras la iteración 3300: 0.655615\n",
      "Coste tras la iteración 3400: 0.655602\n",
      "Coste tras la iteración 3500: 0.655589\n",
      "Coste tras la iteración 3600: 0.655576\n",
      "Coste tras la iteración 3700: 0.655563\n",
      "Coste tras la iteración 3800: 0.655551\n",
      "Coste tras la iteración 3900: 0.655538\n",
      "Coste tras la iteración 4000: 0.655525\n",
      "Coste tras la iteración 4100: 0.655512\n",
      "Coste tras la iteración 4200: 0.655499\n",
      "Coste tras la iteración 4300: 0.655486\n",
      "Coste tras la iteración 4400: 0.655474\n",
      "Coste tras la iteración 4500: 0.655461\n",
      "Coste tras la iteración 4600: 0.655448\n",
      "Coste tras la iteración 4700: 0.655435\n",
      "Coste tras la iteración 4800: 0.655422\n",
      "Coste tras la iteración 4900: 0.655410\n",
      "Accuracy de entrenamiento: 70.0 %\n",
      "Accuracy de prueba: 70.0 %\n"
     ]
    }
   ],
   "source": [
    "d = modelo(CE_x2, CP_x2, CE_y2, CP_y2, num_iter = 5000, tasa = 0.00000001, print_cost = True)"
   ]
  },
  {
   "cell_type": "markdown",
   "metadata": {},
   "source": [
    "**Salida esperada**: \n",
    "\n",
    "<table style=\"width:50%\"> \n",
    "<tr>\n",
    "<td> Coste tras la iteración 0   </td> \n",
    "<td> 0.693147 </td>\n",
    "</tr>\n",
    "<tr>\n",
    "<td> <center> $\\vdots$ </center> </td> \n",
    "<td> <center> $\\vdots$ </center> </td> \n",
    "</tr>  \n",
    "<tr>\n",
    "<td> Precisión de entrenamiento  </td> \n",
    "<td> 70.0 % </td>\n",
    "</tr>\n",
    "<tr>\n",
    "<td> Precisión de prueba </td> \n",
    "<td> 70.0 % </td>\n",
    "</tr>\n",
    "</table> "
   ]
  },
  {
   "cell_type": "markdown",
   "metadata": {},
   "source": [
    "La precisión de entrenamiento es muy similar a la que conseguimos mediante la regresion logistica. También podemos observar que el error de prueba es igual al de entrenamiento. Este resultado sugiere que el modelo aprende segun entrenamiento, y generaliza de igual forma sobre los observaciones nuevas."
   ]
  },
  {
   "cell_type": "markdown",
   "metadata": {},
   "source": [
    "Grafiquemos la función de pérdida."
   ]
  },
  {
   "cell_type": "code",
   "execution_count": 18,
   "metadata": {},
   "outputs": [
    {
     "data": {
      "image/png": "[encoded data removed]",
      "text/plain": [
       "<Figure size 432x288 with 1 Axes>"
      ]
     },
     "metadata": {
      "needs_background": "light"
     },
     "output_type": "display_data"
    }
   ],
   "source": [
    "# Gráfica de la curva de aprendizaje (con costes)\n",
    "costes = np.squeeze(d['Costes'])\n",
    "plt.plot(costes)\n",
    "plt.ylabel('coste')\n",
    "plt.xlabel('iteraciones (en cientos)')\n",
    "plt.title(\"Tasa de aprendizaje =\" + str(d[\"Tasa de aprendizaje\"]))\n",
    "plt.show()"
   ]
  },
  {
   "cell_type": "markdown",
   "metadata": {},
   "source": [
    "**Interpretación**:\n",
    "Se puede ver el coste decreciendo, demostrando que los parámetros están siendo aprendidos. "
   ]
  },
  {
   "cell_type": "markdown",
   "metadata": {},
   "source": [
    "Ya tenemos un primer modelo de clasificación. Ahora examinemos distintos valores para la tasa de aprendizaje $\\alpha$. \n",
    "\n",
    "#### Selección de la tasa de aprendizaje ####\n",
    "\n",
    "Para que el método del GD funcione de manera adecuada, se debe elegir la tasa de aprendiazaje de manera acertada. Esta tasa $\\alpha$  determina qué tan rápido se actualizan los parámetros. Si la tasa es muy grande se puede \"sobrepasar\" el valor óptimo. Y de manera similar, si es muy pequeña se van a necesitar muchas iteraciones para converger a los mejores valores. Por ello la importancia de tener una tase de aprensizaje bien afinada.  \n",
    "\n",
    "Ahora, comparemos la curva de aprendizaje de nuestro modelo con distintas elecciones para $\\alpha$. Ejecute el código abajo. También puede intentar con valores distintos a los tres que estamos utilizando abajo para `tasas` y analize los resultados.\n",
    "\n"
   ]
  },
  {
   "cell_type": "code",
   "execution_count": 19,
   "metadata": {},
   "outputs": [
    {
     "name": "stdout",
     "output_type": "stream",
     "text": [
      "La tasa de aprendizaje es: 0.01\n"
     ]
    },
    {
     "name": "stderr",
     "output_type": "stream",
     "text": [
      "C:\\Users\\Sergio\\Anaconda3\\lib\\site-packages\\ipykernel_launcher.py:20: RuntimeWarning: divide by zero encountered in log\n",
      "C:\\Users\\Sergio\\Anaconda3\\lib\\site-packages\\ipykernel_launcher.py:20: RuntimeWarning: invalid value encountered in multiply\n"
     ]
    },
    {
     "name": "stdout",
     "output_type": "stream",
     "text": [
      "Accuracy de entrenamiento: 70.0 %\n",
      "Accuracy de prueba: 70.0 %\n",
      "\n",
      "-------------------------------------------------------\n",
      "\n",
      "La tasa de aprendizaje es: 0.001\n",
      "Accuracy de entrenamiento: 70.0 %\n",
      "Accuracy de prueba: 70.0 %\n",
      "\n",
      "-------------------------------------------------------\n",
      "\n",
      "La tasa de aprendizaje es: 9e-05\n",
      "Accuracy de entrenamiento: 32.66666666666667 %\n",
      "Accuracy de prueba: 32.75 %\n",
      "\n",
      "-------------------------------------------------------\n",
      "\n",
      "La tasa de aprendizaje es: 1e-06\n",
      "Accuracy de entrenamiento: 70.0 %\n",
      "Accuracy de prueba: 70.0 %\n",
      "\n",
      "-------------------------------------------------------\n",
      "\n",
      "La tasa de aprendizaje es: 1e-07\n",
      "Accuracy de entrenamiento: 70.0 %\n",
      "Accuracy de prueba: 70.0 %\n",
      "\n",
      "-------------------------------------------------------\n",
      "\n",
      "La tasa de aprendizaje es: 1e-10\n",
      "Accuracy de entrenamiento: 70.0 %\n",
      "Accuracy de prueba: 70.0 %\n",
      "\n",
      "-------------------------------------------------------\n",
      "\n",
      "La tasa de aprendizaje es: 2e-20\n",
      "Accuracy de entrenamiento: 70.0 %\n",
      "Accuracy de prueba: 70.0 %\n",
      "\n",
      "-------------------------------------------------------\n",
      "\n"
     ]
    },
    {
     "data": {
      "image/png": "[encoded data removed]",
      "text/plain": [
       "<Figure size 432x288 with 1 Axes>"
      ]
     },
     "metadata": {
      "needs_background": "light"
     },
     "output_type": "display_data"
    }
   ],
   "source": [
    "tasas = [0.01, 1e-3, 9e-5, 1e-6, 1e-7, 1e-10, 2e-20]\n",
    "modelos = {}\n",
    "for i in tasas:\n",
    "    print (\"La tasa de aprendizaje es: \" + str(i))\n",
    "    modelos[str(i)] = modelo(CE_x2, CP_x2, CE_y2, CP_y2, num_iter = 2000, tasa = i, print_cost = False)\n",
    "    print ('\\n' + \"-------------------------------------------------------\" + '\\n')\n",
    "\n",
    "for i in tasas:\n",
    "    plt.plot(np.squeeze(modelos[str(i)][\"Costes\"]), label= str(modelos[str(i)][\"Tasa de aprendizaje\"]))\n",
    "\n",
    "plt.ylabel('coste')\n",
    "plt.xlabel('iteraciones (en cientos)')\n",
    "\n",
    "legend = plt.legend(loc='upper center', shadow=True)\n",
    "frame = legend.get_frame()\n",
    "frame.set_facecolor('0.90')\n",
    "plt.show()"
   ]
  },
  {
   "cell_type": "markdown",
   "metadata": {},
   "source": [
    "### Pregunta 2.8\n",
    "\n",
    "Analice los resultados, con cuál tasa de aprendizaje intentaría mejorar el desempeño del modelo?"
   ]
  },
  {
   "cell_type": "code",
   "execution_count": 38,
   "metadata": {},
   "outputs": [
    {
     "name": "stdout",
     "output_type": "stream",
     "text": [
      "Intentaría mejorar el modelo con la tasa de aprendizaje establecida en 1e-7, dado que representa el menor coste a menor numero de iteraciones, y se obtiene el accuracy máximo.\n"
     ]
    }
   ],
   "source": [
    "print('Intentaría mejorar el modelo con la tasa de aprendizaje establecida en 1e-7, dado que representa el menor coste a menor numero de iteraciones, y se obtiene el accuracy máximo.')"
   ]
  },
  {
   "cell_type": "markdown",
   "metadata": {},
   "source": [
    "## 3. Comparacion con la implementación tradicional de regresión logística"
   ]
  },
  {
   "cell_type": "markdown",
   "metadata": {},
   "source": [
    "A continuación ajustamos el modelo logístico y lo probamos:"
   ]
  },
  {
   "cell_type": "code",
   "execution_count": 36,
   "metadata": {},
   "outputs": [
    {
     "name": "stderr",
     "output_type": "stream",
     "text": [
      "C:\\Users\\Sergio\\Anaconda3\\lib\\site-packages\\sklearn\\linear_model\\logistic.py:432: FutureWarning: Default solver will be changed to 'lbfgs' in 0.22. Specify a solver to silence this warning.\n",
      "  FutureWarning)\n"
     ]
    }
   ],
   "source": [
    "logT = LogisticRegression(penalty='l1', max_iter=1500)\n",
    "logT.fit(CE_x, CE_y)\n",
    "y_tr = logT.predict(CE_x)\n",
    "y_pred = logT.predict(CP_x)"
   ]
  },
  {
   "cell_type": "markdown",
   "metadata": {},
   "source": [
    "Examinemos los coeficientes del modelo de la neurona sigmoide y su desviación con respecto a la estimación tradicional de regresion logistica."
   ]
  },
  {
   "cell_type": "code",
   "execution_count": 37,
   "metadata": {},
   "outputs": [
    {
     "data": {
      "text/html": [
       "<i>Table length=61</i>\n",
       "<table id=\"table2839090175840\" class=\"table-striped table-bordered table-condensed\">\n",
       "<thead><tr><th>Regresion logistica [1]</th><th>Neurona sigmoide [1]</th><th>Diferencia [1]</th></tr></thead>\n",
       "<thead><tr><th>float64</th><th>float64</th><th>float64</th></tr></thead>\n",
       "<tr><td>0.02235241504866487</td><td>-2.478349949724639e-05</td><td>0.022377198548162117</td></tr>\n",
       "<tr><td>7.477152340557807e-05</td><td>-0.0001450843860869214</td><td>0.00021985590949249946</td></tr>\n",
       "<tr><td>0.267510676815867</td><td>-1.294443442390108e-05</td><td>0.2675236212502909</td></tr>\n",
       "<tr><td>0.0</td><td>-1.3019209233839786e-05</td><td>1.3019209233839786e-05</td></tr>\n",
       "<tr><td>-0.00906612175833068</td><td>-0.00017710568746503875</td><td>-0.008889016070865641</td></tr>\n",
       "<tr><td>0.1591265553495367</td><td>-6.464349881986249e-06</td><td>0.1591330196994187</td></tr>\n",
       "<tr><td>0.1449694180669084</td><td>-5.135040274195558e-06</td><td>0.1449745531071826</td></tr>\n",
       "<tr><td>0.28656654900597894</td><td>9.740540904311402e-07</td><td>0.2865655749518885</td></tr>\n",
       "<tr><td>0.0</td><td>1.1100859462191477e-07</td><td>-1.1100859462191477e-07</td></tr>\n",
       "<tr><td>-0.35816864708767493</td><td>-4.209644178383274e-07</td><td>-0.3581682261232571</td></tr>\n",
       "<tr><td>...</td><td>...</td><td>...</td></tr>\n",
       "<tr><td>-0.26980053616912625</td><td>-5.138272406479793e-06</td><td>-0.26979539789671975</td></tr>\n",
       "<tr><td>-0.48949125069173105</td><td>1.5533114786927503e-07</td><td>-0.48949140602287894</td></tr>\n",
       "<tr><td>0.0</td><td>6.389796595959118e-08</td><td>-6.389796595959118e-08</td></tr>\n",
       "<tr><td>0.0</td><td>-1.1281662284803572e-06</td><td>1.1281662284803572e-06</td></tr>\n",
       "<tr><td>0.0</td><td>-3.4779869255604774e-06</td><td>3.4779869255604774e-06</td></tr>\n",
       "<tr><td>-0.07410451745291904</td><td>-7.122565691860779e-08</td><td>-0.07410444622726213</td></tr>\n",
       "<tr><td>0.0</td><td>-2.5639715125493715e-06</td><td>2.5639715125493715e-06</td></tr>\n",
       "<tr><td>-0.30577672213752394</td><td>-2.0495093324504682e-06</td><td>-0.30577467262819147</td></tr>\n",
       "<tr><td>0.0</td><td>-3.8893067994448015e-06</td><td>3.8893067994448015e-06</td></tr>\n",
       "<tr><td>-1.3773674914644933</td><td>-7.241740455550514e-07</td><td>-1.3773667672904477</td></tr>\n",
       "</table>"
      ],
      "text/plain": [
       "<Table length=61>\n",
       "Regresion logistica [1]   Neurona sigmoide [1]       Diferencia [1]    \n",
       "        float64                 float64                 float64        \n",
       "----------------------- ----------------------- -----------------------\n",
       "    0.02235241504866487  -2.478349949724639e-05    0.022377198548162117\n",
       "  7.477152340557807e-05  -0.0001450843860869214  0.00021985590949249946\n",
       "      0.267510676815867  -1.294443442390108e-05      0.2675236212502909\n",
       "                    0.0 -1.3019209233839786e-05  1.3019209233839786e-05\n",
       "   -0.00906612175833068 -0.00017710568746503875   -0.008889016070865641\n",
       "     0.1591265553495367  -6.464349881986249e-06      0.1591330196994187\n",
       "     0.1449694180669084  -5.135040274195558e-06      0.1449745531071826\n",
       "    0.28656654900597894   9.740540904311402e-07      0.2865655749518885\n",
       "                    0.0  1.1100859462191477e-07 -1.1100859462191477e-07\n",
       "   -0.35816864708767493  -4.209644178383274e-07     -0.3581682261232571\n",
       "                    ...                     ...                     ...\n",
       "   -0.26980053616912625  -5.138272406479793e-06    -0.26979539789671975\n",
       "   -0.48949125069173105  1.5533114786927503e-07    -0.48949140602287894\n",
       "                    0.0   6.389796595959118e-08  -6.389796595959118e-08\n",
       "                    0.0 -1.1281662284803572e-06  1.1281662284803572e-06\n",
       "                    0.0 -3.4779869255604774e-06  3.4779869255604774e-06\n",
       "   -0.07410451745291904  -7.122565691860779e-08    -0.07410444622726213\n",
       "                    0.0 -2.5639715125493715e-06  2.5639715125493715e-06\n",
       "   -0.30577672213752394 -2.0495093324504682e-06    -0.30577467262819147\n",
       "                    0.0 -3.8893067994448015e-06  3.8893067994448015e-06\n",
       "    -1.3773674914644933  -7.241740455550514e-07     -1.3773667672904477"
      ]
     },
     "execution_count": 37,
     "metadata": {},
     "output_type": "execute_result"
    }
   ],
   "source": [
    "from astropy.table import QTable, Table, Column\n",
    "\n",
    "Tabla =  Table([logT.coef_.T, d['w'], logT.coef_.T-d['w']], names=(\"Regresion logistica\", \"Neurona sigmoide\", \"Diferencia\"))\n",
    "Tabla"
   ]
  },
  {
   "cell_type": "markdown",
   "metadata": {},
   "source": [
    "### Pregunta 3.1\n",
    "\n",
    "Qué puede observar en esta comparativa?"
   ]
  },
  {
   "cell_type": "code",
   "execution_count": 32,
   "metadata": {},
   "outputs": [
    {
     "name": "stdout",
     "output_type": "stream",
     "text": [
      "La tabla muestra una diferencia respecto a las magnitudes de los coeficientes, en la neurona sigmoide los coeficientes están relacionados con valores relativos a 1e-5\n"
     ]
    }
   ],
   "source": [
    "print('La tabla muestra una diferencia respecto a las magnitudes de los coeficientes, en la neurona sigmoide los coeficientes están relacionados con valores relativos a 1e-5')"
   ]
  },
  {
   "cell_type": "markdown",
   "metadata": {},
   "source": [
    "Veamos la exactitud de los modelos"
   ]
  },
  {
   "cell_type": "code",
   "execution_count": 33,
   "metadata": {},
   "outputs": [
    {
     "name": "stdout",
     "output_type": "stream",
     "text": [
      "La neurona sigmoide tiene una exactitud de entrenamiento: 0.7 y de validacion: 0.7\n",
      "La regresion tradicional tiene una exactitud de entrenamiento: 0.765 y de validacion: 0.76\n"
     ]
    }
   ],
   "source": [
    "print(\"La neurona sigmoide tiene una exactitud de entrenamiento: \" \n",
    "      +str(float((d['Prediccion_entrenamiento'] == CE_y2).mean())) +\" y de validacion: \" +str(float((d['Prediccion_prueba'] == CP_y2).mean())))\n",
    "print(\"La regresion tradicional tiene una exactitud de entrenamiento: \" \n",
    "      +str(float((y_tr == CE_y).mean())) +\" y de validacion: \" +str(float((y_pred == CP_y).mean())))\n"
   ]
  },
  {
   "cell_type": "markdown",
   "metadata": {},
   "source": [
    "### Ejercicio  3.2\n",
    "\n",
    "Ahora puede desarrollar su propio código intentando mejorar los resultados obtenidos. \n",
    "\n",
    "Intente sobrepasar los resultados de la regresion logistica tradicional. Optimice la tasa de aprendizaje, el número de iteraciones o (bono) investigue y cambie la manera en la cual inicializamos los coeficientes. "
   ]
  },
  {
   "cell_type": "code",
   "execution_count": 34,
   "metadata": {},
   "outputs": [],
   "source": [
    "# Modelo inicializando con aleatorios divididos por 100\n",
    "def modelo2(CE_x, CP_x, CE_y, CP_y, num_iter, tasa, print_cost):\n",
    "    \"\"\"\n",
    "    Construye el modelo de regresión logística llamando las funciones implementadas anteriormente\n",
    "    Output:\n",
    "    d: diccionario con la información sobre el modelo.\n",
    "    \"\"\"\n",
    "    \n",
    "    # Inicialice los parametros con ceros \n",
    "    w = np.zeros([CE_x.shape[0],1])\n",
    "    for i in range (61):\n",
    "        w[i] = np.random.rand(1)/100\n",
    "\n",
    "    b = 0\n",
    "\n",
    "    # Descenso en la dirección del gradiente (GD) \n",
    "    params, grads, costes = optimiza(w, b, CE_x, CE_y, num_iter, tasa, print_cost)\n",
    "    \n",
    "    # Recupere los parámetros w y b del diccionario \"params\" ##\n",
    "    w = params[\"w\"]\n",
    "    b = params[\"b\"]\n",
    "    \n",
    "    # Prediga los ejemplos de prueba y entrenamiento (≈ 2 líneas de código)\n",
    "    YP_pred = pred(w, b, CP_x)\n",
    "    YE_pred = pred(w, b, CE_x)\n",
    "\n",
    "    # Imprima los errores de entrenamiento y prueba\n",
    "    print(\"Accuracy de entrenamiento: {} %\".format(100 - np.mean(np.abs(YE_pred - CE_y)) * 100))\n",
    "    print(\"Accuracy de prueba: {} %\".format(100 - np.mean(np.abs(YP_pred - CP_y)) * 100))\n",
    "\n",
    "    \n",
    "    d2 = {\"Costes\": costes,\n",
    "         \"Prediccion_prueba\": YP_pred, \n",
    "         \"Prediccion_entrenamiento\" : YE_pred, \n",
    "         \"w\" : w, \n",
    "         \"b\" : b,\n",
    "         \"Tasa de aprendizaje\" : tasa,\n",
    "         \"Numero de iteraciones\": num_iter}\n",
    "    \n",
    "    return d2"
   ]
  },
  {
   "cell_type": "code",
   "execution_count": 35,
   "metadata": {},
   "outputs": [
    {
     "name": "stdout",
     "output_type": "stream",
     "text": [
      "Coste tras la iteración 0: 2.647342\n",
      "Coste tras la iteración 100: 0.696190\n",
      "Coste tras la iteración 200: 0.695948\n",
      "Coste tras la iteración 300: 0.695707\n",
      "Coste tras la iteración 400: 0.695467\n",
      "Coste tras la iteración 500: 0.695228\n",
      "Coste tras la iteración 600: 0.694989\n",
      "Coste tras la iteración 700: 0.694751\n",
      "Coste tras la iteración 800: 0.694513\n",
      "Coste tras la iteración 900: 0.694276\n",
      "Coste tras la iteración 1000: 0.694040\n",
      "Coste tras la iteración 1100: 0.693804\n",
      "Coste tras la iteración 1200: 0.693569\n",
      "Coste tras la iteración 1300: 0.693335\n",
      "Coste tras la iteración 1400: 0.693101\n",
      "Coste tras la iteración 1500: 0.692868\n",
      "Coste tras la iteración 1600: 0.692636\n",
      "Coste tras la iteración 1700: 0.692404\n",
      "Coste tras la iteración 1800: 0.692173\n",
      "Coste tras la iteración 1900: 0.691943\n",
      "Coste tras la iteración 2000: 0.691713\n",
      "Coste tras la iteración 2100: 0.691484\n",
      "Coste tras la iteración 2200: 0.691256\n",
      "Coste tras la iteración 2300: 0.691028\n",
      "Coste tras la iteración 2400: 0.690801\n",
      "Coste tras la iteración 2500: 0.690574\n",
      "Coste tras la iteración 2600: 0.690348\n",
      "Coste tras la iteración 2700: 0.690123\n",
      "Coste tras la iteración 2800: 0.689898\n",
      "Coste tras la iteración 2900: 0.689674\n",
      "Coste tras la iteración 3000: 0.689450\n",
      "Coste tras la iteración 3100: 0.689228\n",
      "Coste tras la iteración 3200: 0.689005\n",
      "Coste tras la iteración 3300: 0.688784\n",
      "Coste tras la iteración 3400: 0.688563\n",
      "Coste tras la iteración 3500: 0.688343\n",
      "Coste tras la iteración 3600: 0.688123\n",
      "Coste tras la iteración 3700: 0.687904\n",
      "Coste tras la iteración 3800: 0.687685\n",
      "Coste tras la iteración 3900: 0.687467\n",
      "Coste tras la iteración 4000: 0.687250\n",
      "Coste tras la iteración 4100: 0.687033\n",
      "Coste tras la iteración 4200: 0.686817\n",
      "Coste tras la iteración 4300: 0.686602\n",
      "Coste tras la iteración 4400: 0.686387\n",
      "Coste tras la iteración 4500: 0.686173\n",
      "Coste tras la iteración 4600: 0.685959\n",
      "Coste tras la iteración 4700: 0.685746\n",
      "Coste tras la iteración 4800: 0.685534\n",
      "Coste tras la iteración 4900: 0.685322\n",
      "Coste tras la iteración 5000: 0.685110\n",
      "Coste tras la iteración 5100: 0.684900\n",
      "Coste tras la iteración 5200: 0.684690\n",
      "Coste tras la iteración 5300: 0.684480\n",
      "Coste tras la iteración 5400: 0.684271\n",
      "Coste tras la iteración 5500: 0.684063\n",
      "Coste tras la iteración 5600: 0.683855\n",
      "Coste tras la iteración 5700: 0.683648\n",
      "Coste tras la iteración 5800: 0.683442\n",
      "Coste tras la iteración 5900: 0.683236\n",
      "Coste tras la iteración 6000: 0.683030\n",
      "Coste tras la iteración 6100: 0.682825\n",
      "Coste tras la iteración 6200: 0.682621\n",
      "Coste tras la iteración 6300: 0.682417\n",
      "Coste tras la iteración 6400: 0.682214\n",
      "Coste tras la iteración 6500: 0.682012\n",
      "Coste tras la iteración 6600: 0.681810\n",
      "Coste tras la iteración 6700: 0.681609\n",
      "Coste tras la iteración 6800: 0.681408\n",
      "Coste tras la iteración 6900: 0.681208\n",
      "Coste tras la iteración 7000: 0.681008\n",
      "Coste tras la iteración 7100: 0.680809\n",
      "Coste tras la iteración 7200: 0.680610\n",
      "Coste tras la iteración 7300: 0.680412\n",
      "Coste tras la iteración 7400: 0.680215\n",
      "Coste tras la iteración 7500: 0.680018\n",
      "Coste tras la iteración 7600: 0.679822\n",
      "Coste tras la iteración 7700: 0.679626\n",
      "Coste tras la iteración 7800: 0.679431\n",
      "Coste tras la iteración 7900: 0.679236\n",
      "Coste tras la iteración 8000: 0.679042\n",
      "Coste tras la iteración 8100: 0.678848\n",
      "Coste tras la iteración 8200: 0.678655\n",
      "Coste tras la iteración 8300: 0.678463\n",
      "Coste tras la iteración 8400: 0.678271\n",
      "Coste tras la iteración 8500: 0.678080\n",
      "Coste tras la iteración 8600: 0.677889\n",
      "Coste tras la iteración 8700: 0.677699\n",
      "Coste tras la iteración 8800: 0.677509\n",
      "Coste tras la iteración 8900: 0.677320\n",
      "Coste tras la iteración 9000: 0.677131\n",
      "Coste tras la iteración 9100: 0.676943\n",
      "Coste tras la iteración 9200: 0.676755\n",
      "Coste tras la iteración 9300: 0.676568\n",
      "Coste tras la iteración 9400: 0.676382\n",
      "Coste tras la iteración 9500: 0.676196\n",
      "Coste tras la iteración 9600: 0.676010\n",
      "Coste tras la iteración 9700: 0.675825\n",
      "Coste tras la iteración 9800: 0.675641\n",
      "Coste tras la iteración 9900: 0.675457\n",
      "Coste tras la iteración 10000: 0.675274\n",
      "Coste tras la iteración 10100: 0.675091\n",
      "Coste tras la iteración 10200: 0.674909\n",
      "Coste tras la iteración 10300: 0.674727\n",
      "Coste tras la iteración 10400: 0.674545\n",
      "Coste tras la iteración 10500: 0.674365\n",
      "Coste tras la iteración 10600: 0.674184\n",
      "Coste tras la iteración 10700: 0.674005\n",
      "Coste tras la iteración 10800: 0.673825\n",
      "Coste tras la iteración 10900: 0.673647\n",
      "Coste tras la iteración 11000: 0.673469\n",
      "Coste tras la iteración 11100: 0.673291\n",
      "Coste tras la iteración 11200: 0.673114\n",
      "Coste tras la iteración 11300: 0.672937\n",
      "Coste tras la iteración 11400: 0.672761\n",
      "Coste tras la iteración 11500: 0.672585\n",
      "Coste tras la iteración 11600: 0.672410\n",
      "Coste tras la iteración 11700: 0.672235\n",
      "Coste tras la iteración 11800: 0.672061\n",
      "Coste tras la iteración 11900: 0.671888\n",
      "Coste tras la iteración 12000: 0.671714\n",
      "Coste tras la iteración 12100: 0.671542\n",
      "Coste tras la iteración 12200: 0.671370\n",
      "Coste tras la iteración 12300: 0.671198\n",
      "Coste tras la iteración 12400: 0.671027\n",
      "Coste tras la iteración 12500: 0.670856\n",
      "Coste tras la iteración 12600: 0.670686\n",
      "Coste tras la iteración 12700: 0.670516\n",
      "Coste tras la iteración 12800: 0.670347\n",
      "Coste tras la iteración 12900: 0.670178\n",
      "Coste tras la iteración 13000: 0.670010\n",
      "Coste tras la iteración 13100: 0.669842\n",
      "Coste tras la iteración 13200: 0.669675\n",
      "Coste tras la iteración 13300: 0.669508\n",
      "Coste tras la iteración 13400: 0.669341\n",
      "Coste tras la iteración 13500: 0.669176\n",
      "Coste tras la iteración 13600: 0.669010\n",
      "Coste tras la iteración 13700: 0.668845\n",
      "Coste tras la iteración 13800: 0.668681\n",
      "Coste tras la iteración 13900: 0.668517\n",
      "Coste tras la iteración 14000: 0.668353\n",
      "Coste tras la iteración 14100: 0.668190\n",
      "Coste tras la iteración 14200: 0.668028\n",
      "Coste tras la iteración 14300: 0.667866\n",
      "Coste tras la iteración 14400: 0.667704\n",
      "Coste tras la iteración 14500: 0.667543\n",
      "Coste tras la iteración 14600: 0.667382\n",
      "Coste tras la iteración 14700: 0.667222\n",
      "Coste tras la iteración 14800: 0.667062\n",
      "Coste tras la iteración 14900: 0.666903\n",
      "Coste tras la iteración 15000: 0.666744\n",
      "Coste tras la iteración 15100: 0.666585\n",
      "Coste tras la iteración 15200: 0.666427\n",
      "Coste tras la iteración 15300: 0.666270\n",
      "Coste tras la iteración 15400: 0.666113\n",
      "Coste tras la iteración 15500: 0.665956\n",
      "Coste tras la iteración 15600: 0.665800\n",
      "Coste tras la iteración 15700: 0.665644\n",
      "Coste tras la iteración 15800: 0.665489\n",
      "Coste tras la iteración 15900: 0.665334\n",
      "Coste tras la iteración 16000: 0.665180\n",
      "Coste tras la iteración 16100: 0.665026\n",
      "Coste tras la iteración 16200: 0.664873\n",
      "Coste tras la iteración 16300: 0.664720\n",
      "Coste tras la iteración 16400: 0.664567\n",
      "Coste tras la iteración 16500: 0.664415\n",
      "Coste tras la iteración 16600: 0.664263\n",
      "Coste tras la iteración 16700: 0.664112\n",
      "Coste tras la iteración 16800: 0.663961\n",
      "Coste tras la iteración 16900: 0.663811\n",
      "Coste tras la iteración 17000: 0.663661\n",
      "Coste tras la iteración 17100: 0.663511\n",
      "Coste tras la iteración 17200: 0.663362\n",
      "Coste tras la iteración 17300: 0.663213\n",
      "Coste tras la iteración 17400: 0.663065\n",
      "Coste tras la iteración 17500: 0.662917\n",
      "Coste tras la iteración 17600: 0.662770\n",
      "Coste tras la iteración 17700: 0.662623\n",
      "Coste tras la iteración 17800: 0.662476\n",
      "Coste tras la iteración 17900: 0.662330\n",
      "Coste tras la iteración 18000: 0.662185\n",
      "Coste tras la iteración 18100: 0.662039\n",
      "Coste tras la iteración 18200: 0.661895\n",
      "Coste tras la iteración 18300: 0.661750\n",
      "Coste tras la iteración 18400: 0.661606\n",
      "Coste tras la iteración 18500: 0.661462\n",
      "Coste tras la iteración 18600: 0.661319\n",
      "Coste tras la iteración 18700: 0.661176\n",
      "Coste tras la iteración 18800: 0.661034\n",
      "Coste tras la iteración 18900: 0.660892\n",
      "Coste tras la iteración 19000: 0.660751\n",
      "Coste tras la iteración 19100: 0.660609\n",
      "Coste tras la iteración 19200: 0.660469\n",
      "Coste tras la iteración 19300: 0.660328\n",
      "Coste tras la iteración 19400: 0.660189\n",
      "Coste tras la iteración 19500: 0.660049\n",
      "Coste tras la iteración 19600: 0.659910\n",
      "Coste tras la iteración 19700: 0.659771\n",
      "Coste tras la iteración 19800: 0.659633\n",
      "Coste tras la iteración 19900: 0.659495\n",
      "Accuracy de entrenamiento: 70.0 %\n",
      "Accuracy de prueba: 70.0 %\n"
     ]
    }
   ],
   "source": [
    "mejora = modelo2(CE_x2, CP_x2, CE_y2, CP_y2, num_iter = 20000, tasa = 1e-7, print_cost = True)"
   ]
  },
  {
   "cell_type": "markdown",
   "metadata": {},
   "source": [
    "### Mejora de modelo\n",
    "\n",
    "\n",
    "Se intentó mejorar del modelo a través de la inicialización aleatoria de las ponderaciones (valores w), en este caso, justificado bajo el supuesto que el modelo al iniciar en valores 0, puede buscar óptimos locales, ignorando ciertas restricciones y combinaciones lineales que lo puedan llevar a un óptimo global.\n",
    "\n",
    "Al inicializar estos valores en un aleatorio, se le fija un punto de partida distinto en el hiperplano para poder realizar una búsqueda de un valor óptimo (Sea local o global) que permita encontrar un accuracy más alto)."
   ]
  }
 ],
 "metadata": {
  "kernelspec": {
   "display_name": "Python 3",
   "language": "python",
   "name": "python3"
  },
  "language_info": {
   "codemirror_mode": {
    "name": "ipython",
    "version": 3
   },
   "file_extension": ".py",
   "mimetype": "text/x-python",
   "name": "python",
   "nbconvert_exporter": "python",
   "pygments_lexer": "ipython3",
   "version": "3.7.3"
  }
 },
 "nbformat": 4,
 "nbformat_minor": 4
}
