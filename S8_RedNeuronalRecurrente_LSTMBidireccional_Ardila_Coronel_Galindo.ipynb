{
  "nbformat": 4,
  "nbformat_minor": 0,
  "metadata": {
    "coursera": {
      "course_slug": "neural-networks-deep-learning",
      "graded_item_id": "wRuwL",
      "launcher_item_id": "NI888"
    },
    "kernelspec": {
      "display_name": "Python 3",
      "language": "python",
      "name": "python3"
    },
    "language_info": {
      "codemirror_mode": {
        "name": "ipython",
        "version": 3
      },
      "file_extension": ".py",
      "mimetype": "text/x-python",
      "name": "python",
      "nbconvert_exporter": "python",
      "pygments_lexer": "ipython3",
      "version": "3.7.3"
    },
    "colab": {
      "name": "Semana8_RedNeuronalRecurrente_LSTMBidireccional_Actividad.ipynb",
      "provenance": [],
      "collapsed_sections": []
    }
  },
  "cells": [
    {
      "cell_type": "markdown",
      "metadata": {
        "id": "MtLH6Bqla_uR"
      },
      "source": [
        "## MIIA-4203 MODELOS AVANZADOS PARA ANÁLISIS DE DATOS II\n",
        "\n",
        "\n",
        "# Red neuronal recurrente: LSTM bidireccional\n",
        "\n",
        "## Actividad 8\n",
        "\n",
        "### Profesor: Camilo Franco (c.franco31@uniandes.edu.co)\n",
        "\n",
        "## Actividad en grupos\n",
        "### Nombres:\n",
        "\n",
        "- Jonny Coronel Villamil 201411692\n",
        "- Ivan Galindo Gaviria 201924193\n",
        "- Sergio Ardila Rodríguez 201924139\n",
        "\n",
        "**Instrucciones:** Por favor escriba los nombres de los integrantes de su grupo. Esta actividad debe ser entregada a más tardar dentro de 8 días, con la respuesta para los ejercicios y preguntas en cada numeral.\n",
        "\n",
        "En este cuaderno vamos a implementar una red recurrente bi-direccional para la prediccion del sentimiento asociado con un comentario linguistico. Los comentarios con los que vamos a trabajar corresponden con opiniones sobre peliculas (https://ai.stanford.edu/~amaas/data/sentiment/)\n",
        "\n",
        "Finalmente tenemos un ejercicio donde podremos explorar distintos modelos de redes recurrentes (https://en.wikipedia.org/wiki/Recurrent_neural_network)\n",
        "\n",
        "Primero importemos las bibliotecas y paquetes que vamos a utilizar:"
      ]
    },
    {
      "cell_type": "code",
      "metadata": {
        "id": "UyN-bLpka_uS"
      },
      "source": [
        "import numpy as np\n",
        "import keras\n",
        "from keras import layers\n",
        "from keras.models import load_model, Sequential\n",
        "\n",
        "import h5py\n",
        "import matplotlib.pyplot as plt\n",
        "from prettytable import PrettyTable\n",
        "\n",
        "from sklearn.model_selection import train_test_split\n",
        "from sklearn.metrics import confusion_matrix \n"
      ],
      "execution_count": 1,
      "outputs": []
    },
    {
      "cell_type": "markdown",
      "metadata": {
        "id": "9_QHa785a_uY"
      },
      "source": [
        "También definimos algunos parámetros para nuestra implementación, uno donde definimos el número máximo de términos a considerar (de todo nuestro vocabulario) y otro donde definimos la longitud máxima para un comentario:"
      ]
    },
    {
      "cell_type": "code",
      "metadata": {
        "id": "gO5_-zRua_uZ"
      },
      "source": [
        "max_features = 20000  # Considera las 20000 palabras más populares\n",
        "maxlen = 200  # Considera las primeras 200 palabras de cada comentario"
      ],
      "execution_count": 3,
      "outputs": []
    },
    {
      "cell_type": "markdown",
      "metadata": {
        "id": "WOpIfZpha_uc"
      },
      "source": [
        "Importemos los datos:"
      ]
    },
    {
      "cell_type": "code",
      "metadata": {
        "id": "Pc24ImGLa_ud",
        "outputId": "7b5c6e4b-13ab-47ab-d567-7d4438c47ed2",
        "colab": {
          "base_uri": "https://localhost:8080/",
          "height": 85
        }
      },
      "source": [
        "(x_train, y_train), (x_val, y_val) = keras.datasets.imdb.load_data(\n",
        "    num_words=max_features)\n",
        "\n",
        "print(len(x_train), \"secuencias de entrenamiento\")\n",
        "print(len(x_val), \"secuencias de validación\")\n",
        "\n",
        "x_train = keras.preprocessing.sequence.pad_sequences(x_train, maxlen=maxlen)\n",
        "x_val = keras.preprocessing.sequence.pad_sequences(x_val, maxlen=maxlen)"
      ],
      "execution_count": 4,
      "outputs": [
        {
          "output_type": "stream",
          "text": [
            "Downloading data from https://storage.googleapis.com/tensorflow/tf-keras-datasets/imdb.npz\n",
            "17465344/17464789 [==============================] - 0s 0us/step\n",
            "25000 secuencias de entrenamiento\n",
            "25000 secuencias de validación\n"
          ],
          "name": "stdout"
        }
      ]
    },
    {
      "cell_type": "markdown",
      "metadata": {
        "id": "_qpQoMuga_ug"
      },
      "source": [
        "**Salida esperada:**\n",
        "\n",
        "25000 secuencias de entrenamiento\n",
        "\n",
        "25000 secuencias de validación"
      ]
    },
    {
      "cell_type": "markdown",
      "metadata": {
        "id": "WYbJV2pCa_uh"
      },
      "source": [
        "Veamos en qué consiste la priemra observación de entrenamiento:"
      ]
    },
    {
      "cell_type": "code",
      "metadata": {
        "id": "pvO2ufPMa_uh",
        "outputId": "f25e3b3c-f171-4729-ed25-dfe12c87344c",
        "colab": {
          "base_uri": "https://localhost:8080/",
          "height": 408
        }
      },
      "source": [
        "x_train[0]"
      ],
      "execution_count": 5,
      "outputs": [
        {
          "output_type": "execute_result",
          "data": {
            "text/plain": [
              "array([    5,    25,   100,    43,   838,   112,    50,   670,     2,\n",
              "           9,    35,   480,   284,     5,   150,     4,   172,   112,\n",
              "         167,     2,   336,   385,    39,     4,   172,  4536,  1111,\n",
              "          17,   546,    38,    13,   447,     4,   192,    50,    16,\n",
              "           6,   147,  2025,    19,    14,    22,     4,  1920,  4613,\n",
              "         469,     4,    22,    71,    87,    12,    16,    43,   530,\n",
              "          38,    76,    15,    13,  1247,     4,    22,    17,   515,\n",
              "          17,    12,    16,   626,    18, 19193,     5,    62,   386,\n",
              "          12,     8,   316,     8,   106,     5,     4,  2223,  5244,\n",
              "          16,   480,    66,  3785,    33,     4,   130,    12,    16,\n",
              "          38,   619,     5,    25,   124,    51,    36,   135,    48,\n",
              "          25,  1415,    33,     6,    22,    12,   215,    28,    77,\n",
              "          52,     5,    14,   407,    16,    82, 10311,     8,     4,\n",
              "         107,   117,  5952,    15,   256,     4,     2,     7,  3766,\n",
              "           5,   723,    36,    71,    43,   530,   476,    26,   400,\n",
              "         317,    46,     7,     4, 12118,  1029,    13,   104,    88,\n",
              "           4,   381,    15,   297,    98,    32,  2071,    56,    26,\n",
              "         141,     6,   194,  7486,    18,     4,   226,    22,    21,\n",
              "         134,   476,    26,   480,     5,   144,    30,  5535,    18,\n",
              "          51,    36,    28,   224,    92,    25,   104,     4,   226,\n",
              "          65,    16,    38,  1334,    88,    12,    16,   283,     5,\n",
              "          16,  4472,   113,   103,    32,    15,    16,  5345,    19,\n",
              "         178,    32], dtype=int32)"
            ]
          },
          "metadata": {
            "tags": []
          },
          "execution_count": 5
        }
      ]
    },
    {
      "cell_type": "markdown",
      "metadata": {
        "id": "X-mfzVAQa_uk"
      },
      "source": [
        "Podemos reconstruir cada comentario de acuerdo con el índice de cada término:"
      ]
    },
    {
      "cell_type": "code",
      "metadata": {
        "id": "Qvpi5v_8a_ul",
        "outputId": "a93cb4a6-75f1-4eae-fe1e-e7369bfb7e81",
        "colab": {
          "base_uri": "https://localhost:8080/",
          "height": 51
        }
      },
      "source": [
        "L = keras.datasets.imdb.get_word_index(path=\"imdb_word_index.json\")\n",
        "\n",
        "L = {k:(v+3) for k,v in L.items()}\n",
        "L[\"<PAD>\"] = 0\n",
        "L[\"<START>\"] = 1\n",
        "L[\"<UNK>\"] = 2\n",
        "L[\"<UNUSED>\"] = 3\n",
        "\n",
        "L_palabra = {value:key for key,value in L.items()}"
      ],
      "execution_count": 6,
      "outputs": [
        {
          "output_type": "stream",
          "text": [
            "Downloading data from https://storage.googleapis.com/tensorflow/tf-keras-datasets/imdb_word_index.json\n",
            "1646592/1641221 [==============================] - 0s 0us/step\n"
          ],
          "name": "stdout"
        }
      ]
    },
    {
      "cell_type": "markdown",
      "metadata": {
        "id": "ydzTgTNsa_uo"
      },
      "source": [
        "Veamos el primer comentario de entrenamiento que es positivo:"
      ]
    },
    {
      "cell_type": "code",
      "metadata": {
        "id": "YZHQ56vUa_up",
        "outputId": "89cfb1e2-c67d-47ca-86dd-a8fd9a493232",
        "colab": {
          "base_uri": "https://localhost:8080/",
          "height": 71
        }
      },
      "source": [
        "print(\"El comentario: \", ' '.join(L_palabra[id] for id in x_train[0] ))\n",
        "print(\"Tiene un sentimiento asociado: \", y_train[0])"
      ],
      "execution_count": 7,
      "outputs": [
        {
          "output_type": "stream",
          "text": [
            "El comentario:  and you could just imagine being there robert <UNK> is an amazing actor and now the same being director <UNK> father came from the same scottish island as myself so i loved the fact there was a real connection with this film the witty remarks throughout the film were great it was just brilliant so much that i bought the film as soon as it was released for retail and would recommend it to everyone to watch and the fly fishing was amazing really cried at the end it was so sad and you know what they say if you cry at a film it must have been good and this definitely was also congratulations to the two little boy's that played the <UNK> of norman and paul they were just brilliant children are often left out of the praising list i think because the stars that play them all grown up are such a big profile for the whole film but these children are amazing and should be praised for what they have done don't you think the whole story was so lovely because it was true and was someone's life after all that was shared with us all\n",
            "Tiene un sentimiento asociado:  1\n"
          ],
          "name": "stdout"
        }
      ]
    },
    {
      "cell_type": "markdown",
      "metadata": {
        "id": "ep-QIa_aa_ut"
      },
      "source": [
        "O un comentario negativo:"
      ]
    },
    {
      "cell_type": "code",
      "metadata": {
        "id": "N2dQFLo2a_ut",
        "outputId": "e1464d36-335f-4776-8be3-f5de3eab8902",
        "colab": {
          "base_uri": "https://localhost:8080/",
          "height": 71
        }
      },
      "source": [
        "print(\"El comentario: \", ' '.join(L_palabra[id] for id in x_train[1] ))\n",
        "print(\"Tiene un sentimiento asociado: \", y_train[1])"
      ],
      "execution_count": 8,
      "outputs": [
        {
          "output_type": "stream",
          "text": [
            "El comentario:  <PAD> <PAD> <PAD> <PAD> <PAD> <PAD> <PAD> <PAD> <PAD> <PAD> <PAD> <START> big hair big boobs bad music and a giant safety pin these are the words to best describe this terrible movie i love cheesy horror movies and i've seen hundreds but this had got to be on of the worst ever made the plot is paper thin and ridiculous the acting is an abomination the script is completely laughable the best is the end showdown with the cop and how he worked out who the killer is it's just so damn terribly written the clothes are sickening and funny in equal measures the hair is big lots of boobs bounce men wear those cut tee shirts that show off their <UNK> sickening that men actually wore them and the music is just <UNK> trash that plays over and over again in almost every scene there is trashy music boobs and <UNK> taking away bodies and the gym still doesn't close for <UNK> all joking aside this is a truly bad film whose only charm is to look back on the disaster that was the 80's and have a good old laugh at how bad everything was back then\n",
            "Tiene un sentimiento asociado:  0\n"
          ],
          "name": "stdout"
        }
      ]
    },
    {
      "cell_type": "markdown",
      "metadata": {
        "id": "OXRS7BB9a_uy"
      },
      "source": [
        "## 1. Red recurrente bi-direccional"
      ]
    },
    {
      "cell_type": "markdown",
      "metadata": {
        "id": "02JQTbNwa_uz"
      },
      "source": [
        "A continuación definimos la arquitectura de la red:"
      ]
    },
    {
      "cell_type": "code",
      "metadata": {
        "id": "15ym6KyQa_uz",
        "outputId": "136ebef2-e982-4e6c-9004-b8ef4a662ea4",
        "colab": {
          "base_uri": "https://localhost:8080/",
          "height": 323
        }
      },
      "source": [
        "# Input con secuencias de enteros con longitud variable\n",
        "inputs = keras.Input(shape=(None,), dtype=\"int32\")\n",
        "\n",
        "# Conseguimos la representación vectorial (embedding) de cada entero en un vector 128-dimensional\n",
        "x = layers.Embedding(max_features, 128)(inputs)\n",
        "\n",
        "# Añadimos 2 unidades LSTM bidireccionales\n",
        "x = layers.Bidirectional(layers.LSTM(64, return_sequences=True))(x)\n",
        "x = layers.Bidirectional(layers.LSTM(64))(x)\n",
        "\n",
        "# Añadimos un clasificador binario en la salida\n",
        "outputs = layers.Dense(1, activation=\"sigmoid\")(x)\n",
        "\n",
        "# Gaurdamos la arquitectura del modelo\n",
        "model1 = keras.Model(inputs, outputs)\n",
        "model1.summary()"
      ],
      "execution_count": 9,
      "outputs": [
        {
          "output_type": "stream",
          "text": [
            "Model: \"functional_1\"\n",
            "_________________________________________________________________\n",
            "Layer (type)                 Output Shape              Param #   \n",
            "=================================================================\n",
            "input_1 (InputLayer)         [(None, None)]            0         \n",
            "_________________________________________________________________\n",
            "embedding (Embedding)        (None, None, 128)         2560000   \n",
            "_________________________________________________________________\n",
            "bidirectional (Bidirectional (None, None, 128)         98816     \n",
            "_________________________________________________________________\n",
            "bidirectional_1 (Bidirection (None, 128)               98816     \n",
            "_________________________________________________________________\n",
            "dense (Dense)                (None, 1)                 129       \n",
            "=================================================================\n",
            "Total params: 2,757,761\n",
            "Trainable params: 2,757,761\n",
            "Non-trainable params: 0\n",
            "_________________________________________________________________\n"
          ],
          "name": "stdout"
        }
      ]
    },
    {
      "cell_type": "code",
      "metadata": {
        "id": "jDRCkwHza_u3",
        "outputId": "778327e3-9cfb-4a5b-f348-536df0d7271b",
        "colab": {
          "base_uri": "https://localhost:8080/",
          "height": 493
        }
      },
      "source": [
        "# Inicializamos la tabla donde guardamos los resultados\n",
        "x = PrettyTable([\"Exac_E\", \"Exac_V\", \"Exac_P\"])\n",
        "\n",
        "# Definimos el número máximo de iteraciones (épocas de la red)\n",
        "epocas=3\n",
        "\n",
        "# Definimos los parametros del Adam\n",
        "adam = keras.optimizers.Adam(lr=0.001, beta_1=0.9, beta_2=0.999)\n",
        "\n",
        "# Inicializamos el error \n",
        "err_p = 999\n",
        "\n",
        "for i in range(0,3,1):\n",
        "    r = i^3\n",
        "    CE_x, CV_x, CE_y, CV_y = train_test_split(x_train, y_train, test_size = 0.5, random_state = r)\n",
        "          \n",
        "    # Definimos el método de optimización con respecto a su funcion de perdida (además guardamos la exactitud para cada iteracion)\n",
        "    model = keras.Model(inputs, outputs)\n",
        "    model.compile(loss='binary_crossentropy', optimizer=adam, metrics=['accuracy'])\n",
        "    \n",
        "    # Ajustamos el modelo\n",
        "    history=model.fit(x=CE_x, y=CE_y, epochs=epocas, validation_data=(CV_x, CV_y), verbose=1, shuffle=False)\n",
        "      \n",
        "    # Calculamos las metricas\n",
        "    train_metrics = model.evaluate(x=CE_x, y=CE_y, verbose=0)\n",
        "    valid_metrics = model.evaluate(x=CV_x, y=CV_y, verbose=0)\n",
        "    test_metrics = model.evaluate(x=x_val, y=y_val, verbose=0)\n",
        "    \n",
        "    # Guardamos las métricas de desempeño\n",
        "    accu_e = train_metrics[1]\n",
        "    loss_e = train_metrics[0]\n",
        "    accu_v = valid_metrics[1]\n",
        "    loss_v = valid_metrics[0]\n",
        "    accu_p = test_metrics[1]\n",
        "    loss_p = test_metrics[0]\n",
        "    \n",
        "    if (loss_p < err_p):\n",
        "        pathr =('BRNN_part='+str(r)+'.h5')\n",
        "        model.save(pathr) \n",
        "        err_p = loss_p\n",
        "    \n",
        "    # Imprimimos el desempeño para cada repetición\n",
        "    print('Desempeño (exactitud): accu_v1='+str(accu_v) +' , accu_v2='+str(accu_p))\n",
        "    \n",
        "    x.add_row([np.round(accu_e,4), np.round(accu_v,4), np.round(accu_p,4)])\n",
        "\n",
        "print(x)\n"
      ],
      "execution_count": 10,
      "outputs": [
        {
          "output_type": "stream",
          "text": [
            "Epoch 1/3\n",
            "391/391 [==============================] - 220s 563ms/step - loss: 0.4528 - accuracy: 0.7853 - val_loss: 0.3562 - val_accuracy: 0.8560\n",
            "Epoch 2/3\n",
            "391/391 [==============================] - 220s 562ms/step - loss: 0.2334 - accuracy: 0.9141 - val_loss: 0.3823 - val_accuracy: 0.8506\n",
            "Epoch 3/3\n",
            "391/391 [==============================] - 224s 574ms/step - loss: 0.1445 - accuracy: 0.9522 - val_loss: 0.5089 - val_accuracy: 0.8390\n",
            "Desempeño (exactitud): accu_v1=0.8389599919319153 , accu_v2=0.8325600028038025\n",
            "Epoch 1/3\n",
            "391/391 [==============================] - 223s 569ms/step - loss: 0.2557 - accuracy: 0.9027 - val_loss: 0.2518 - val_accuracy: 0.9049\n",
            "Epoch 2/3\n",
            "391/391 [==============================] - 222s 567ms/step - loss: 0.1472 - accuracy: 0.9492 - val_loss: 0.2988 - val_accuracy: 0.8979\n",
            "Epoch 3/3\n",
            "391/391 [==============================] - 221s 566ms/step - loss: 0.1023 - accuracy: 0.9662 - val_loss: 0.3602 - val_accuracy: 0.8850\n",
            "Desempeño (exactitud): accu_v1=0.8849599957466125 , accu_v2=0.8325600028038025\n",
            "Epoch 1/3\n",
            "391/391 [==============================] - 228s 584ms/step - loss: 0.1841 - accuracy: 0.9347 - val_loss: 0.1669 - val_accuracy: 0.9403\n",
            "Epoch 2/3\n",
            "391/391 [==============================] - 221s 564ms/step - loss: 0.0802 - accuracy: 0.9755 - val_loss: 0.2314 - val_accuracy: 0.9210\n",
            "Epoch 3/3\n",
            "391/391 [==============================] - 226s 578ms/step - loss: 0.0559 - accuracy: 0.9838 - val_loss: 0.2389 - val_accuracy: 0.9358\n",
            "Desempeño (exactitud): accu_v1=0.9358400106430054 , accu_v2=0.8477200269699097\n",
            "+--------+--------+--------+\n",
            "| Exac_E | Exac_V | Exac_P |\n",
            "+--------+--------+--------+\n",
            "| 0.9714 | 0.839  | 0.8326 |\n",
            "| 0.984  | 0.885  | 0.8326 |\n",
            "| 0.9906 | 0.9358 | 0.8477 |\n",
            "+--------+--------+--------+\n"
          ],
          "name": "stdout"
        }
      ]
    },
    {
      "cell_type": "code",
      "metadata": {
        "id": "4z8Ck4ysa_u6",
        "outputId": "0964aedd-dd73-4412-f2dc-23051ade4d92",
        "colab": {
          "base_uri": "https://localhost:8080/",
          "height": 573
        }
      },
      "source": [
        "plt.figure(1)\n",
        "plt.plot(history.history['accuracy'])  \n",
        "plt.plot(history.history['val_accuracy'])  \n",
        "plt.title('Exactitud')  \n",
        "plt.ylabel('Acc')  \n",
        "plt.xlabel('Epoca')  \n",
        "plt.legend(['Entreno', 'Validacion'], loc='lower right')\n",
        "plt.show()\n",
        "\n",
        "plt.figure(1) \n",
        "plt.plot(history.history['loss'])  \n",
        "plt.plot(history.history['val_loss'])  \n",
        "plt.title('Pérdida')  \n",
        "plt.ylabel('Pérdida')  \n",
        "plt.xlabel('Epoca')  \n",
        "plt.legend(['Entreno', 'Validación'], loc='upper right')  \n",
        "plt.show()"
      ],
      "execution_count": 11,
      "outputs": [
        {
          "output_type": "display_data",
          "data": {
            "image/png": "[encoded data removed]",
            "text/plain": [
              "<Figure size 432x288 with 1 Axes>"
            ]
          },
          "metadata": {
            "tags": [],
            "needs_background": "light"
          }
        },
        {
          "output_type": "display_data",
          "data": {
            "image/png": "[encoded data removed]",
            "text/plain": [
              "<Figure size 432x288 with 1 Axes>"
            ]
          },
          "metadata": {
            "tags": [],
            "needs_background": "light"
          }
        }
      ]
    },
    {
      "cell_type": "markdown",
      "metadata": {
        "id": "k6ZQ-OHOa_u9"
      },
      "source": [
        "Recuperamos el mejor modelo:"
      ]
    },
    {
      "cell_type": "code",
      "metadata": {
        "id": "gw7wTAjUa_u9",
        "outputId": "2573b90d-efe3-493a-bc31-12a5ab98f3e9",
        "colab": {
          "base_uri": "https://localhost:8080/",
          "height": 323
        }
      },
      "source": [
        "# B-RNN LSTM\n",
        "model_brnn = load_model('BRNN_part=3.h5')\n",
        "\n",
        "model_brnn.summary()"
      ],
      "execution_count": 12,
      "outputs": [
        {
          "output_type": "stream",
          "text": [
            "Model: \"functional_3\"\n",
            "_________________________________________________________________\n",
            "Layer (type)                 Output Shape              Param #   \n",
            "=================================================================\n",
            "input_1 (InputLayer)         [(None, None)]            0         \n",
            "_________________________________________________________________\n",
            "embedding (Embedding)        (None, None, 128)         2560000   \n",
            "_________________________________________________________________\n",
            "bidirectional (Bidirectional (None, None, 128)         98816     \n",
            "_________________________________________________________________\n",
            "bidirectional_1 (Bidirection (None, 128)               98816     \n",
            "_________________________________________________________________\n",
            "dense (Dense)                (None, 1)                 129       \n",
            "=================================================================\n",
            "Total params: 2,757,761\n",
            "Trainable params: 2,757,761\n",
            "Non-trainable params: 0\n",
            "_________________________________________________________________\n"
          ],
          "name": "stdout"
        }
      ]
    },
    {
      "cell_type": "markdown",
      "metadata": {
        "id": "8mm78qyRa_vB"
      },
      "source": [
        "Replicamos los resultados obtenidos anteriormente:"
      ]
    },
    {
      "cell_type": "code",
      "metadata": {
        "id": "5Tr5kyxNa_vC",
        "outputId": "4dab167f-daa0-4370-c2e0-91c01ac665c6",
        "colab": {
          "base_uri": "https://localhost:8080/",
          "height": 68
        }
      },
      "source": [
        "Y_predt = model_brnn.predict(x_train)\n",
        "Y_predst = (Y_predt > 0.5)\n",
        "\n",
        "print(confusion_matrix(y_train, Y_predst))\n",
        "print(\"Exactitud: \", model_brnn.evaluate(x=x_train, y=y_train, verbose=0)[1])"
      ],
      "execution_count": 13,
      "outputs": [
        {
          "output_type": "stream",
          "text": [
            "[[10679  1821]\n",
            " [  549 11951]]\n",
            "Exactitud:  0.9052000045776367\n"
          ],
          "name": "stdout"
        }
      ]
    },
    {
      "cell_type": "markdown",
      "metadata": {
        "id": "W2K60Wq3a_vF"
      },
      "source": [
        "Reportamos el desempeño del modelo con los datos de prueba (fuera de la muestra):"
      ]
    },
    {
      "cell_type": "code",
      "metadata": {
        "id": "9flQAlJTa_vF",
        "outputId": "9cc648fb-ea3d-4ef9-89ae-d1c92df877db",
        "colab": {
          "base_uri": "https://localhost:8080/",
          "height": 68
        }
      },
      "source": [
        "Y_predv = model_brnn.predict(x_val)\n",
        "Y_predsv = (Y_predv > 0.5)\n",
        "\n",
        "print(confusion_matrix(y_val, Y_predsv))\n",
        "print(\"Exactitud: \", model_brnn.evaluate(x=x_val, y=y_val, verbose=0)[1])"
      ],
      "execution_count": 14,
      "outputs": [
        {
          "output_type": "stream",
          "text": [
            "[[ 9457  3043]\n",
            " [ 1143 11357]]\n",
            "Exactitud:  0.8325600028038025\n"
          ],
          "name": "stdout"
        }
      ]
    },
    {
      "cell_type": "markdown",
      "metadata": {
        "id": "FT1yBSYra_vI"
      },
      "source": [
        "## Ejercicio 1.1\n",
        "\n",
        "Desarrolle un modelo de red neuronal recurrente uni-direccional para comparar los resultados obtenidos con esta red recurrente bi-direccional.\n",
        "\n",
        "Puede explorar una red recurrente simple, LSTM ó GRU, o cualquier otro tipo de red que desee explorar que contenga al menos una capa de tipo recurrente (ver por ejemplo: https://keras.io/api/layers/#recurrent-layers).\n",
        "\n",
        "Compare los resultados sobre los datos de prueba y analice el desempeño de su modelo."
      ]
    },
    {
      "cell_type": "code",
      "metadata": {
        "id": "hzlVmHvy3_Le",
        "outputId": "d3058339-6674-40be-c581-2352a46d2416",
        "colab": {
          "base_uri": "https://localhost:8080/",
          "height": 564
        }
      },
      "source": [
        "!pip install Livelossplot"
      ],
      "execution_count": 22,
      "outputs": [
        {
          "output_type": "stream",
          "text": [
            "Collecting Livelossplot\n",
            "  Downloading https://files.pythonhosted.org/packages/0f/08/1884157a3de72d41fa97cacacafaa49abf00eba53cb7e08615b2b65b4a9d/livelossplot-0.5.3-py3-none-any.whl\n",
            "Requirement already satisfied: bokeh; python_version >= \"3.6\" in /usr/local/lib/python3.6/dist-packages (from Livelossplot) (2.1.1)\n",
            "Requirement already satisfied: ipython in /usr/local/lib/python3.6/dist-packages (from Livelossplot) (5.5.0)\n",
            "Requirement already satisfied: matplotlib; python_version >= \"3.6\" in /usr/local/lib/python3.6/dist-packages (from Livelossplot) (3.2.2)\n",
            "Requirement already satisfied: python-dateutil>=2.1 in /usr/local/lib/python3.6/dist-packages (from bokeh; python_version >= \"3.6\"->Livelossplot) (2.8.1)\n",
            "Requirement already satisfied: pillow>=4.0 in /usr/local/lib/python3.6/dist-packages (from bokeh; python_version >= \"3.6\"->Livelossplot) (7.0.0)\n",
            "Requirement already satisfied: Jinja2>=2.7 in /usr/local/lib/python3.6/dist-packages (from bokeh; python_version >= \"3.6\"->Livelossplot) (2.11.2)\n",
            "Requirement already satisfied: PyYAML>=3.10 in /usr/local/lib/python3.6/dist-packages (from bokeh; python_version >= \"3.6\"->Livelossplot) (3.13)\n",
            "Requirement already satisfied: typing-extensions>=3.7.4 in /usr/local/lib/python3.6/dist-packages (from bokeh; python_version >= \"3.6\"->Livelossplot) (3.7.4.3)\n",
            "Requirement already satisfied: numpy>=1.11.3 in /usr/local/lib/python3.6/dist-packages (from bokeh; python_version >= \"3.6\"->Livelossplot) (1.18.5)\n",
            "Requirement already satisfied: packaging>=16.8 in /usr/local/lib/python3.6/dist-packages (from bokeh; python_version >= \"3.6\"->Livelossplot) (20.4)\n",
            "Requirement already satisfied: tornado>=5.1 in /usr/local/lib/python3.6/dist-packages (from bokeh; python_version >= \"3.6\"->Livelossplot) (5.1.1)\n",
            "Requirement already satisfied: simplegeneric>0.8 in /usr/local/lib/python3.6/dist-packages (from ipython->Livelossplot) (0.8.1)\n",
            "Requirement already satisfied: setuptools>=18.5 in /usr/local/lib/python3.6/dist-packages (from ipython->Livelossplot) (50.3.0)\n",
            "Requirement already satisfied: prompt-toolkit<2.0.0,>=1.0.4 in /usr/local/lib/python3.6/dist-packages (from ipython->Livelossplot) (1.0.18)\n",
            "Requirement already satisfied: pygments in /usr/local/lib/python3.6/dist-packages (from ipython->Livelossplot) (2.6.1)\n",
            "Requirement already satisfied: pexpect; sys_platform != \"win32\" in /usr/local/lib/python3.6/dist-packages (from ipython->Livelossplot) (4.8.0)\n",
            "Requirement already satisfied: pickleshare in /usr/local/lib/python3.6/dist-packages (from ipython->Livelossplot) (0.7.5)\n",
            "Requirement already satisfied: decorator in /usr/local/lib/python3.6/dist-packages (from ipython->Livelossplot) (4.4.2)\n",
            "Requirement already satisfied: traitlets>=4.2 in /usr/local/lib/python3.6/dist-packages (from ipython->Livelossplot) (4.3.3)\n",
            "Requirement already satisfied: cycler>=0.10 in /usr/local/lib/python3.6/dist-packages (from matplotlib; python_version >= \"3.6\"->Livelossplot) (0.10.0)\n",
            "Requirement already satisfied: kiwisolver>=1.0.1 in /usr/local/lib/python3.6/dist-packages (from matplotlib; python_version >= \"3.6\"->Livelossplot) (1.2.0)\n",
            "Requirement already satisfied: pyparsing!=2.0.4,!=2.1.2,!=2.1.6,>=2.0.1 in /usr/local/lib/python3.6/dist-packages (from matplotlib; python_version >= \"3.6\"->Livelossplot) (2.4.7)\n",
            "Requirement already satisfied: six>=1.5 in /usr/local/lib/python3.6/dist-packages (from python-dateutil>=2.1->bokeh; python_version >= \"3.6\"->Livelossplot) (1.15.0)\n",
            "Requirement already satisfied: MarkupSafe>=0.23 in /usr/local/lib/python3.6/dist-packages (from Jinja2>=2.7->bokeh; python_version >= \"3.6\"->Livelossplot) (1.1.1)\n",
            "Requirement already satisfied: wcwidth in /usr/local/lib/python3.6/dist-packages (from prompt-toolkit<2.0.0,>=1.0.4->ipython->Livelossplot) (0.2.5)\n",
            "Requirement already satisfied: ptyprocess>=0.5 in /usr/local/lib/python3.6/dist-packages (from pexpect; sys_platform != \"win32\"->ipython->Livelossplot) (0.6.0)\n",
            "Requirement already satisfied: ipython-genutils in /usr/local/lib/python3.6/dist-packages (from traitlets>=4.2->ipython->Livelossplot) (0.2.0)\n",
            "Installing collected packages: Livelossplot\n",
            "Successfully installed Livelossplot-0.5.3\n"
          ],
          "name": "stdout"
        }
      ]
    },
    {
      "cell_type": "code",
      "metadata": {
        "id": "Txo_UFPQa_vJ"
      },
      "source": [
        "from keras.layers import Dense, Embedding, LSTM, SpatialDropout1D\n",
        "from keras.layers.core import Dropout\n",
        "from keras import backend as K\n",
        "from livelossplot import PlotLossesKeras\n",
        "\n",
        "CE_x, CV_x, CE_y, CV_y = train_test_split(x_train, y_train, test_size = 0.5, random_state = 3)"
      ],
      "execution_count": 23,
      "outputs": []
    },
    {
      "cell_type": "code",
      "metadata": {
        "id": "DDtQCk0s4XtH",
        "outputId": "2900d87d-1594-438e-91b4-d26f8961c77a",
        "colab": {
          "base_uri": "https://localhost:8080/",
          "height": 272
        }
      },
      "source": [
        "#Arquitectura de la red\n",
        "\n",
        "K.clear_session()\n",
        "model = Sequential()\n",
        "model.add(Embedding(max_features, 128,input_length = x_train.shape[1]))\n",
        "model.add(LSTM(64))\n",
        "model.add(Dense(1,activation='sigmoid'))\n",
        "model.compile(loss = 'binary_crossentropy', optimizer='adam',metrics = ['accuracy'])\n",
        "\n",
        "print(model.summary())"
      ],
      "execution_count": 25,
      "outputs": [
        {
          "output_type": "stream",
          "text": [
            "Model: \"sequential\"\n",
            "_________________________________________________________________\n",
            "Layer (type)                 Output Shape              Param #   \n",
            "=================================================================\n",
            "embedding (Embedding)        (None, 200, 128)          2560000   \n",
            "_________________________________________________________________\n",
            "lstm (LSTM)                  (None, 64)                49408     \n",
            "_________________________________________________________________\n",
            "dense (Dense)                (None, 1)                 65        \n",
            "=================================================================\n",
            "Total params: 2,609,473\n",
            "Trainable params: 2,609,473\n",
            "Non-trainable params: 0\n",
            "_________________________________________________________________\n",
            "None\n"
          ],
          "name": "stdout"
        }
      ]
    },
    {
      "cell_type": "code",
      "metadata": {
        "id": "1PiOmuqj4mK0",
        "outputId": "d420f913-0157-4e4b-a7ba-9fad60ef84c2",
        "colab": {
          "base_uri": "https://localhost:8080/",
          "height": 721
        }
      },
      "source": [
        "model.fit(CE_x, CE_y, epochs = 3, validation_data=(CV_x, CV_y), verbose = 1, callbacks = [PlotLossesKeras()])"
      ],
      "execution_count": 26,
      "outputs": [
        {
          "output_type": "display_data",
          "data": {
            "image/png": "[encoded data removed]",
            "text/plain": [
              "<Figure size 864x576 with 2 Axes>"
            ]
          },
          "metadata": {
            "tags": [],
            "needs_background": "light"
          }
        },
        {
          "output_type": "stream",
          "text": [
            "accuracy\n",
            "\ttraining         \t (min:    0.788, max:    0.960, cur:    0.960)\n",
            "\tvalidation       \t (min:    0.838, max:    0.862, cur:    0.862)\n",
            "Loss\n",
            "\ttraining         \t (min:    0.118, max:    0.449, cur:    0.118)\n",
            "\tvalidation       \t (min:    0.358, max:    0.390, cur:    0.390)\n",
            "\b\b\b\b\b\b\b\b\b\b\b\b\b\b\b\b\b\b\b\b\b\b\b\b\b\b\b\b\b\b\b\b\b\b\b\b\b\b\b\b\b\b\b\b\b\b\b\b\b\b\b\b\b\b\b\b\b\b\b\b\b\b\b\b\b\b\b\b\b\b\b\b\b\b\b\b\b\b\b\b\b\b\b\b\r391/391 [==============================] - 71s 181ms/step - loss: 0.1181 - accuracy: 0.9600 - val_loss: 0.3896 - val_accuracy: 0.8622\n"
          ],
          "name": "stdout"
        },
        {
          "output_type": "execute_result",
          "data": {
            "text/plain": [
              "<tensorflow.python.keras.callbacks.History at 0x7f4384184cf8>"
            ]
          },
          "metadata": {
            "tags": []
          },
          "execution_count": 26
        }
      ]
    },
    {
      "cell_type": "code",
      "metadata": {
        "id": "QftSV_RO5lVF",
        "outputId": "372d8bac-c5fc-4494-81f7-b58588e00bb6",
        "colab": {
          "base_uri": "https://localhost:8080/",
          "height": 102
        }
      },
      "source": [
        "x = PrettyTable([\"Exac_E\", \"Exac_V\", \"Exac_P\"])\n",
        "train_metrics = model.evaluate(x=CE_x, y=CE_y, verbose=0)\n",
        "valid_metrics = model.evaluate(x=CV_x, y=CV_y, verbose=0)\n",
        "test_metrics = model.evaluate(x=x_val, y=y_val, verbose=0)\n",
        "\n",
        "accu_e = train_metrics[1]\n",
        "loss_e = train_metrics[0]\n",
        "accu_v = valid_metrics[1]\n",
        "loss_v = valid_metrics[0]\n",
        "accu_p = test_metrics[1]\n",
        "loss_p = test_metrics[0]\n",
        "x.add_row([np.round(accu_e,4), np.round(accu_v,4), np.round(accu_p,4)])\n",
        "\n",
        "print(x)"
      ],
      "execution_count": 28,
      "outputs": [
        {
          "output_type": "stream",
          "text": [
            "+--------+--------+--------+\n",
            "| Exac_E | Exac_V | Exac_P |\n",
            "+--------+--------+--------+\n",
            "| 0.9911 | 0.8622 | 0.8527 |\n",
            "+--------+--------+--------+\n"
          ],
          "name": "stdout"
        }
      ]
    },
    {
      "cell_type": "markdown",
      "metadata": {
        "id": "_yPgzPCA6zrA"
      },
      "source": [
        "### Conclusiones\n",
        "\n",
        "- Realizando una red LSTM unidireccional con 64 neuronas con una capa de salida de activación sigmoide, a través de ella logramos obtener un accuracy de 99% en la data de entrenamiento, 86% en validación y 85% en Prueba, lo que muestra que podemos contar con overfitting, este efecto del overfitting se intentó neutralizar a través de la inclusión de un dropout, sin embargo no se logró cambio en los resultados de exactitud.\n",
        "- Se realizaron pruebas con 64 neuronas, con 128 y con 196 respectivamente, con el respectivo dropout para evitar efectos de overfitting, sin embargo el accuracy no presenta cambios significativos.\n"
      ]
    },
    {
      "cell_type": "markdown",
      "metadata": {
        "id": "e4tUIMvza_vM"
      },
      "source": [
        "## Ejercicio 1.2\n",
        "\n",
        "Desarrolle otro modelo de red neuronal (de libre elección) para mejorar los resultados obtenidos con el mejor modelo obtenido hasta ahora.\n",
        "\n",
        "Puede explorar una red recurrente simple, LSTM, GRU, o cualquier otro tipo de red (CNN, CNN-LSTM, ...)\n",
        "\n",
        "Compare los resultados sobre los datos de prueba y analice el desempeño de su modelo. Concluya y proponga estrategias para seguir mejorando los resultados."
      ]
    },
    {
      "cell_type": "code",
      "metadata": {
        "id": "wsviiU5j_kLO"
      },
      "source": [
        "from keras.layers.core import Dropout"
      ],
      "execution_count": 36,
      "outputs": []
    },
    {
      "cell_type": "code",
      "metadata": {
        "id": "NxlMH1Sz-iVR",
        "outputId": "84bc27b3-7660-4108-980a-73e913d4e8e0",
        "colab": {
          "base_uri": "https://localhost:8080/",
          "height": 306
        }
      },
      "source": [
        "#Intento 1: Arquitectura de la red manejando una capa LSTM con 196 neuronas y añadiendo un dropout, buscando mejorar el desempeño del modelo.\n",
        "\n",
        "K.clear_session()\n",
        "model = Sequential()\n",
        "model.add(Embedding(max_features, 128,input_length = x_train.shape[1]))\n",
        "model.add(LSTM(196,dropout=0.3, recurrent_dropout=0.3))\n",
        "model.add(Dense(64,activation='relu'))\n",
        "model.add(Dense(1,activation='sigmoid'))\n",
        "model.compile(loss = 'binary_crossentropy', optimizer='adam',metrics = ['accuracy'])\n",
        "\n",
        "print(model.summary())"
      ],
      "execution_count": 39,
      "outputs": [
        {
          "output_type": "stream",
          "text": [
            "Model: \"sequential\"\n",
            "_________________________________________________________________\n",
            "Layer (type)                 Output Shape              Param #   \n",
            "=================================================================\n",
            "embedding (Embedding)        (None, 200, 128)          2560000   \n",
            "_________________________________________________________________\n",
            "lstm (LSTM)                  (None, 196)               254800    \n",
            "_________________________________________________________________\n",
            "dense (Dense)                (None, 64)                12608     \n",
            "_________________________________________________________________\n",
            "dense_1 (Dense)              (None, 1)                 65        \n",
            "=================================================================\n",
            "Total params: 2,827,473\n",
            "Trainable params: 2,827,473\n",
            "Non-trainable params: 0\n",
            "_________________________________________________________________\n",
            "None\n"
          ],
          "name": "stdout"
        }
      ]
    },
    {
      "cell_type": "code",
      "metadata": {
        "id": "4xc-dQAo_65T",
        "outputId": "d1e48769-8c3b-49e8-84ff-e7ce0b447196",
        "colab": {
          "base_uri": "https://localhost:8080/",
          "height": 721
        }
      },
      "source": [
        "model.fit(CE_x, CE_y, epochs = 3, validation_data=(CV_x, CV_y), verbose = 1, callbacks = [PlotLossesKeras()])"
      ],
      "execution_count": 40,
      "outputs": [
        {
          "output_type": "display_data",
          "data": {
            "image/png": "[encoded data removed]",
            "text/plain": [
              "<Figure size 864x576 with 2 Axes>"
            ]
          },
          "metadata": {
            "tags": [],
            "needs_background": "light"
          }
        },
        {
          "output_type": "stream",
          "text": [
            "accuracy\n",
            "\ttraining         \t (min:    0.730, max:    0.923, cur:    0.923)\n",
            "\tvalidation       \t (min:    0.816, max:    0.842, cur:    0.842)\n",
            "Loss\n",
            "\ttraining         \t (min:    0.197, max:    0.525, cur:    0.197)\n",
            "\tvalidation       \t (min:    0.373, max:    0.448, cur:    0.448)\n",
            "\b\b\b\b\b\b\b\b\b\b\b\b\b\b\b\b\b\b\b\b\b\b\b\b\b\b\b\b\b\b\b\b\b\b\b\b\b\b\b\b\b\b\b\b\b\b\b\b\b\b\b\b\b\b\b\b\b\b\b\b\b\b\b\b\b\b\b\b\b\b\b\b\b\b\b\b\b\b\b\b\b\b\b\b\r391/391 [==============================] - 466s 1s/step - loss: 0.1965 - accuracy: 0.9232 - val_loss: 0.4481 - val_accuracy: 0.8415\n"
          ],
          "name": "stdout"
        },
        {
          "output_type": "execute_result",
          "data": {
            "text/plain": [
              "<tensorflow.python.keras.callbacks.History at 0x7f43847cec50>"
            ]
          },
          "metadata": {
            "tags": []
          },
          "execution_count": 40
        }
      ]
    },
    {
      "cell_type": "code",
      "metadata": {
        "id": "fA4J5QEBFfSC",
        "outputId": "c4a3e5a0-c5f4-4daf-b244-00ac8fa49e44",
        "colab": {
          "base_uri": "https://localhost:8080/",
          "height": 102
        }
      },
      "source": [
        "x = PrettyTable([\"Exac_E\", \"Exac_V\", \"Exac_P\"])\n",
        "train_metrics = model.evaluate(x=CE_x, y=CE_y, verbose=0)\n",
        "valid_metrics = model.evaluate(x=CV_x, y=CV_y, verbose=0)\n",
        "test_metrics = model.evaluate(x=x_val, y=y_val, verbose=0)\n",
        "\n",
        "accu_e = train_metrics[1]\n",
        "loss_e = train_metrics[0]\n",
        "accu_v = valid_metrics[1]\n",
        "loss_v = valid_metrics[0]\n",
        "accu_p = test_metrics[1]\n",
        "loss_p = test_metrics[0]\n",
        "x.add_row([np.round(accu_e,4), np.round(accu_v,4), np.round(accu_p,4)])\n",
        "\n",
        "print(x)"
      ],
      "execution_count": 41,
      "outputs": [
        {
          "output_type": "stream",
          "text": [
            "+--------+--------+--------+\n",
            "| Exac_E | Exac_V | Exac_P |\n",
            "+--------+--------+--------+\n",
            "| 0.9685 | 0.8415 | 0.8284 |\n",
            "+--------+--------+--------+\n"
          ],
          "name": "stdout"
        }
      ]
    },
    {
      "cell_type": "code",
      "metadata": {
        "id": "5MSPJNbApzg9"
      },
      "source": [
        "import tensorflow as tf\n",
        "import keras"
      ],
      "execution_count": 16,
      "outputs": []
    },
    {
      "cell_type": "code",
      "metadata": {
        "id": "HiBXTJw0a_vM",
        "outputId": "9c3c52ab-4695-4fe3-d2df-b7a83c160335",
        "colab": {
          "base_uri": "https://localhost:8080/",
          "height": 323
        }
      },
      "source": [
        "#Red Definitiva: Arquitectura de la red estableciendo 2 capas bidireccionales GRU\n",
        "\n",
        "# Input con secuencias de enteros con longitud variable\n",
        "inputs = keras.Input(shape=(None,), dtype=\"int32\")\n",
        "\n",
        "# Conseguimos la representación vectorial (embedding) de cada entero en un vector 128-dimensional\n",
        "x = layers.Embedding(max_features, 128)(inputs)\n",
        "\n",
        "# Se añaden 2 unidades GRU bidireccionales\n",
        "x = layers.Bidirectional(layers.GRU(64, return_sequences=True))(x)\n",
        "x = layers.Bidirectional(layers.GRU(64))(x)\n",
        "\n",
        "# Se añade un clasificador binario en la salida\n",
        "outputs = layers.Dense(1, activation=\"sigmoid\")(x)\n",
        "\n",
        "# Gaurdamos la arquitectura del modelo\n",
        "model2 = keras.Model(inputs, outputs)\n",
        "model2.summary()"
      ],
      "execution_count": 18,
      "outputs": [
        {
          "output_type": "stream",
          "text": [
            "Model: \"functional_9\"\n",
            "_________________________________________________________________\n",
            "Layer (type)                 Output Shape              Param #   \n",
            "=================================================================\n",
            "input_2 (InputLayer)         [(None, None)]            0         \n",
            "_________________________________________________________________\n",
            "embedding_1 (Embedding)      (None, None, 128)         2560000   \n",
            "_________________________________________________________________\n",
            "bidirectional_2 (Bidirection (None, None, 128)         74496     \n",
            "_________________________________________________________________\n",
            "bidirectional_3 (Bidirection (None, 128)               74496     \n",
            "_________________________________________________________________\n",
            "dense_1 (Dense)              (None, 1)                 129       \n",
            "=================================================================\n",
            "Total params: 2,709,121\n",
            "Trainable params: 2,709,121\n",
            "Non-trainable params: 0\n",
            "_________________________________________________________________\n"
          ],
          "name": "stdout"
        }
      ]
    },
    {
      "cell_type": "code",
      "metadata": {
        "id": "9WLtRdnHr3YB",
        "outputId": "596e4b80-1389-4afc-eb02-33c3fdf41f4d",
        "colab": {
          "base_uri": "https://localhost:8080/",
          "height": 493
        }
      },
      "source": [
        "# Inicializamos la tabla donde guardamos los resultados\n",
        "x = PrettyTable([\"Exac_E\", \"Exac_V\", \"Exac_P\"])\n",
        "\n",
        "# Definimos el número máximo de iteraciones (épocas de la red)\n",
        "epocas=3\n",
        "\n",
        "# Definimos los parametros del Adam\n",
        "adam = keras.optimizers.Adam(lr=0.001, beta_1=0.9, beta_2=0.999)\n",
        "\n",
        "# Inicializamos el error \n",
        "err_p = 999\n",
        "\n",
        "for i in range(0,3,1):\n",
        "    r = i^3\n",
        "    CE_x, CV_x, CE_y, CV_y = train_test_split(x_train, y_train, test_size = 0.5, random_state = r)\n",
        "          \n",
        "    # Definimos el método de optimización con respecto a su funcion de perdida (además guardamos la exactitud para cada iteracion)\n",
        "    model = keras.Model(inputs, outputs)\n",
        "    model.compile(loss='binary_crossentropy', optimizer=adam, metrics=['accuracy'])\n",
        "    \n",
        "    # Ajustamos el modelo\n",
        "    history=model.fit(x=CE_x, y=CE_y, epochs=epocas, validation_data=(CV_x, CV_y), verbose=1, shuffle=False)\n",
        "      \n",
        "    # Calculamos las metricas\n",
        "    train_metrics = model.evaluate(x=CE_x, y=CE_y, verbose=0)\n",
        "    valid_metrics = model.evaluate(x=CV_x, y=CV_y, verbose=0)\n",
        "    test_metrics = model.evaluate(x=x_val, y=y_val, verbose=0)\n",
        "    \n",
        "    # Guardamos las métricas de desempeño\n",
        "    accu_e = train_metrics[1]\n",
        "    loss_e = train_metrics[0]\n",
        "    accu_v = valid_metrics[1]\n",
        "    loss_v = valid_metrics[0]\n",
        "    accu_p = test_metrics[1]\n",
        "    loss_p = test_metrics[0]\n",
        "    \n",
        "    if (loss_p < err_p):\n",
        "        pathr =('BRNN_part='+str(r)+'.h5')\n",
        "        model.save(pathr) \n",
        "        err_p = loss_p\n",
        "    \n",
        "    # Imprimimos el desempeño para cada repetición\n",
        "    print('Desempeño (exactitud): accu_v1='+str(accu_v) +' , accu_v2='+str(accu_p))\n",
        "    \n",
        "    x.add_row([np.round(accu_e,4), np.round(accu_v,4), np.round(accu_p,4)])\n",
        "\n",
        "print(x)"
      ],
      "execution_count": 19,
      "outputs": [
        {
          "output_type": "stream",
          "text": [
            "Epoch 1/3\n",
            "391/391 [==============================] - 201s 514ms/step - loss: 0.4923 - accuracy: 0.7503 - val_loss: 0.3521 - val_accuracy: 0.8495\n",
            "Epoch 2/3\n",
            "391/391 [==============================] - 201s 513ms/step - loss: 0.2270 - accuracy: 0.9125 - val_loss: 0.3833 - val_accuracy: 0.8492\n",
            "Epoch 3/3\n",
            "391/391 [==============================] - 202s 516ms/step - loss: 0.1217 - accuracy: 0.9573 - val_loss: 0.5588 - val_accuracy: 0.8538\n",
            "Desempeño (exactitud): accu_v1=0.8538399934768677 , accu_v2=0.8409199714660645\n",
            "Epoch 1/3\n",
            "391/391 [==============================] - 203s 518ms/step - loss: 0.2145 - accuracy: 0.9219 - val_loss: 0.1962 - val_accuracy: 0.9246\n",
            "Epoch 2/3\n",
            "391/391 [==============================] - 201s 515ms/step - loss: 0.0717 - accuracy: 0.9770 - val_loss: 0.3361 - val_accuracy: 0.8895\n",
            "Epoch 3/3\n",
            "391/391 [==============================] - 203s 518ms/step - loss: 0.0353 - accuracy: 0.9894 - val_loss: 0.4653 - val_accuracy: 0.8953\n",
            "Desempeño (exactitud): accu_v1=0.8952800035476685 , accu_v2=0.8433600068092346\n",
            "Epoch 1/3\n",
            "391/391 [==============================] - 204s 520ms/step - loss: 0.1473 - accuracy: 0.9503 - val_loss: 0.1308 - val_accuracy: 0.9557\n",
            "Epoch 2/3\n",
            "391/391 [==============================] - 203s 518ms/step - loss: 0.0353 - accuracy: 0.9887 - val_loss: 0.1657 - val_accuracy: 0.9520\n",
            "Epoch 3/3\n",
            "391/391 [==============================] - 209s 534ms/step - loss: 0.0094 - accuracy: 0.9977 - val_loss: 0.2150 - val_accuracy: 0.9501\n",
            "Desempeño (exactitud): accu_v1=0.9500799775123596 , accu_v2=0.8573200106620789\n",
            "+--------+--------+--------+\n",
            "| Exac_E | Exac_V | Exac_P |\n",
            "+--------+--------+--------+\n",
            "| 0.9718 | 0.8538 | 0.8409 |\n",
            "| 0.9862 | 0.8953 | 0.8434 |\n",
            "| 0.9994 | 0.9501 | 0.8573 |\n",
            "+--------+--------+--------+\n"
          ],
          "name": "stdout"
        }
      ]
    },
    {
      "cell_type": "markdown",
      "metadata": {
        "id": "_pru_Pmi3QW1"
      },
      "source": [
        "### Conclusiones\n",
        "\n",
        "- Ínicialmente, se intentó mejorar la red LSTM anterior a través de la calibración de sus parámetros y agregando una capa adicional con función de activación ReLU, posteriormente con función sigmoide, sin embargo, no mejoró considerablemente el accuracy.\n",
        "- La red que presenta un mejor desempeño, es una red bidireccional con dos capas GRU (Gated Recurrent Unit), cada una de 64 neuronas, obteniendo resultados de 99% en data de entrenamiento, 95% en data de validación y 85% en data de prueba. Con las capas GRU, se puede evidenciar mayor eficiencia en la ejecución, adicionalmente, necesita menos parámetros y permiten un aprendizaje más rápido.\n",
        "\n",
        "\n"
      ]
    }
  ]
}